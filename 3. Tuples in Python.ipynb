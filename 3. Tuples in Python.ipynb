{
 "cells": [
  {
   "cell_type": "markdown",
   "id": "19349e0e",
   "metadata": {},
   "source": [
    "# 3. Tuples in Python\n",
    "\n",
    " * __Tuples are immutable list and can not be changed in any way once it is created.__\n",
    " \n",
    "  * __Tuples are defined in the same way as list.__\n",
    "  * __They are enclosed within parenthesis() and do not within the square braces.__\n",
    "  * __Tuples are ordered, indexed collections of data.__\n",
    "  * __Similar to string indices, the first value in the tuple will have the index[0], the second value [1].__\n",
    "  * __Negative indices are counted from the end of the tuple just like lists.__\n",
    "  * __Tuple also has the same structures where commas separate the values.__\n",
    "  * __Tuples can store duplicate values.__\n",
    "  * __Tuples allow you to store several data items including string, integer, float, nested list in one variables.__"
   ]
  },
  {
   "cell_type": "code",
   "execution_count": 1,
   "id": "2046b6aa",
   "metadata": {},
   "outputs": [
    {
     "data": {
      "text/plain": [
       "('Hello World',\n",
       " 3.14,\n",
       " 2023,\n",
       " [1, 2, 30],\n",
       " {1, 2, 3},\n",
       " {'a': 32, 'b': 30},\n",
       " ('Hello World', 30))"
      ]
     },
     "execution_count": 1,
     "metadata": {},
     "output_type": "execute_result"
    }
   ],
   "source": [
    "x1=('Hello World',3.14,2023,[1,2,30],{1,2,3},{'a':32,'b':30},('Hello World',30))\n",
    "x1"
   ]
  },
  {
   "cell_type": "code",
   "execution_count": 5,
   "id": "ffc62b08",
   "metadata": {},
   "outputs": [
    {
     "name": "stdout",
     "output_type": "stream",
     "text": [
      "('Hello World', 3.14, 2023, [1, 2, 30], {1, 2, 3}, {'a': 32, 'b': 30}, ('Hello World', 30))\n"
     ]
    }
   ],
   "source": [
    "print(x1)"
   ]
  },
  {
   "cell_type": "code",
   "execution_count": 8,
   "id": "dd4e6604",
   "metadata": {},
   "outputs": [
    {
     "name": "stdout",
     "output_type": "stream",
     "text": [
      "None\n",
      "('Hello World', 3.14, 2023, [1, 2, 30, 'Suhana'], {1, 2, 3}, {'a': 32, 'b': 30}, ('Hello World', 30))\n"
     ]
    }
   ],
   "source": [
    "print(x1[3].append('Suhana'))\n",
    "print(x1)"
   ]
  },
  {
   "cell_type": "code",
   "execution_count": 10,
   "id": "d4847c12",
   "metadata": {},
   "outputs": [
    {
     "ename": "AttributeError",
     "evalue": "'tuple' object has no attribute 'append'",
     "output_type": "error",
     "traceback": [
      "\u001b[1;31m---------------------------------------------------------------------------\u001b[0m",
      "\u001b[1;31mAttributeError\u001b[0m                            Traceback (most recent call last)",
      "\u001b[1;32m~\\AppData\\Local\\Temp\\ipykernel_17532\\4161049800.py\u001b[0m in \u001b[0;36m<module>\u001b[1;34m\u001b[0m\n\u001b[1;32m----> 1\u001b[1;33m \u001b[0mprint\u001b[0m\u001b[1;33m(\u001b[0m\u001b[0mx1\u001b[0m\u001b[1;33m.\u001b[0m\u001b[0mappend\u001b[0m\u001b[1;33m(\u001b[0m\u001b[1;34m'Suhana'\u001b[0m\u001b[1;33m)\u001b[0m\u001b[1;33m)\u001b[0m\u001b[1;33m\u001b[0m\u001b[1;33m\u001b[0m\u001b[0m\n\u001b[0m\u001b[0;32m      2\u001b[0m \u001b[0mprint\u001b[0m\u001b[1;33m(\u001b[0m\u001b[0mx1\u001b[0m\u001b[1;33m)\u001b[0m\u001b[1;33m\u001b[0m\u001b[1;33m\u001b[0m\u001b[0m\n",
      "\u001b[1;31mAttributeError\u001b[0m: 'tuple' object has no attribute 'append'"
     ]
    }
   ],
   "source": [
    "print(x1.append('Suhana'))\n",
    "print(x1)"
   ]
  },
  {
   "cell_type": "code",
   "execution_count": 15,
   "id": "63043eb9",
   "metadata": {},
   "outputs": [
    {
     "name": "stdout",
     "output_type": "stream",
     "text": [
      "{1, 2, 3}\n",
      "('Hello World', 3.14, 2023, [1, 2, 30, 'Suhana'], {1, 2, 3}, {'a': 32, 'b': 30}, ('Hello World', 30))\n"
     ]
    }
   ],
   "source": [
    "print(x1[4])\n",
    "print(x1)"
   ]
  },
  {
   "cell_type": "code",
   "execution_count": 16,
   "id": "c340aa32",
   "metadata": {},
   "outputs": [
    {
     "data": {
      "text/plain": [
       "('Hello World',\n",
       " 3.14,\n",
       " 2023,\n",
       " [1, 2, 30, 'Suhana'],\n",
       " {1, 2, 3},\n",
       " {'a': 32, 'b': 30},\n",
       " ('Hello World', 30))"
      ]
     },
     "execution_count": 16,
     "metadata": {},
     "output_type": "execute_result"
    }
   ],
   "source": [
    "x1"
   ]
  },
  {
   "cell_type": "code",
   "execution_count": 19,
   "id": "09acf167",
   "metadata": {},
   "outputs": [
    {
     "name": "stdout",
     "output_type": "stream",
     "text": [
      "False\n",
      "True\n",
      "False\n"
     ]
    }
   ],
   "source": [
    "# Membership operators \n",
    "print(10 in x1)\n",
    "print(3.14 in x1)\n",
    "\n",
    "print(3.14 not in x1)"
   ]
  },
  {
   "cell_type": "code",
   "execution_count": 24,
   "id": "64904b03",
   "metadata": {},
   "outputs": [
    {
     "name": "stdout",
     "output_type": "stream",
     "text": [
      "10\n",
      "Total sum of the tuple: 550\n",
      "Minimum number in the tuple: 10\n",
      "Maximum number in the tuple 100\n"
     ]
    }
   ],
   "source": [
    "x2=(10,20,30,40,50,60,70,80,90,100)\n",
    "\n",
    "print(len(x2))\n",
    "\n",
    "print('Total sum of the tuple:',sum(x2))\n",
    "\n",
    "print('Minimum number in the tuple:',min(x2))\n",
    "\n",
    "print('Maximum number in the tuple',max(x2))"
   ]
  },
  {
   "cell_type": "code",
   "execution_count": 25,
   "id": "54915036",
   "metadata": {},
   "outputs": [
    {
     "data": {
      "text/plain": [
       "(10, 20, 30)"
      ]
     },
     "execution_count": 25,
     "metadata": {},
     "output_type": "execute_result"
    }
   ],
   "source": [
    "x3=(10,20,30)\n",
    "\n",
    "x3"
   ]
  },
  {
   "cell_type": "code",
   "execution_count": 26,
   "id": "55052b04",
   "metadata": {},
   "outputs": [
    {
     "ename": "NameError",
     "evalue": "name 'x3' is not defined",
     "output_type": "error",
     "traceback": [
      "\u001b[1;31m---------------------------------------------------------------------------\u001b[0m",
      "\u001b[1;31mNameError\u001b[0m                                 Traceback (most recent call last)",
      "\u001b[1;32m~\\AppData\\Local\\Temp\\ipykernel_17532\\2232407860.py\u001b[0m in \u001b[0;36m<module>\u001b[1;34m\u001b[0m\n\u001b[0;32m      1\u001b[0m \u001b[1;32mdel\u001b[0m\u001b[1;33m(\u001b[0m\u001b[0mx3\u001b[0m\u001b[1;33m)\u001b[0m\u001b[1;33m\u001b[0m\u001b[1;33m\u001b[0m\u001b[0m\n\u001b[1;32m----> 2\u001b[1;33m \u001b[0mprint\u001b[0m\u001b[1;33m(\u001b[0m\u001b[0mx3\u001b[0m\u001b[1;33m)\u001b[0m\u001b[1;33m\u001b[0m\u001b[1;33m\u001b[0m\u001b[0m\n\u001b[0m",
      "\u001b[1;31mNameError\u001b[0m: name 'x3' is not defined"
     ]
    }
   ],
   "source": [
    "del(x3)\n",
    "print(x3)"
   ]
  },
  {
   "cell_type": "code",
   "execution_count": 27,
   "id": "a0ea9e73",
   "metadata": {},
   "outputs": [
    {
     "ename": "NameError",
     "evalue": "name 'x3' is not defined",
     "output_type": "error",
     "traceback": [
      "\u001b[1;31m---------------------------------------------------------------------------\u001b[0m",
      "\u001b[1;31mNameError\u001b[0m                                 Traceback (most recent call last)",
      "\u001b[1;32m~\\AppData\\Local\\Temp\\ipykernel_17532\\62038863.py\u001b[0m in \u001b[0;36m<module>\u001b[1;34m\u001b[0m\n\u001b[1;32m----> 1\u001b[1;33m \u001b[0mx3\u001b[0m\u001b[1;33m\u001b[0m\u001b[1;33m\u001b[0m\u001b[0m\n\u001b[0m",
      "\u001b[1;31mNameError\u001b[0m: name 'x3' is not defined"
     ]
    }
   ],
   "source": [
    "x3"
   ]
  },
  {
   "cell_type": "code",
   "execution_count": null,
   "id": "90ee0b50",
   "metadata": {},
   "outputs": [],
   "source": []
  }
 ],
 "metadata": {
  "kernelspec": {
   "display_name": "Python 3 (ipykernel)",
   "language": "python",
   "name": "python3"
  },
  "language_info": {
   "codemirror_mode": {
    "name": "ipython",
    "version": 3
   },
   "file_extension": ".py",
   "mimetype": "text/x-python",
   "name": "python",
   "nbconvert_exporter": "python",
   "pygments_lexer": "ipython3",
   "version": "3.9.13"
  }
 },
 "nbformat": 4,
 "nbformat_minor": 5
}
