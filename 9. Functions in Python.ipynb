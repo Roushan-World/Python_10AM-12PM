{
 "cells": [
  {
   "cell_type": "markdown",
   "id": "0a0d9ed5",
   "metadata": {},
   "source": [
    "# 9. Functions in Python\n",
    "\n",
    "\n",
    " * __In Python, a function is a groupp of related statements that performs a specific task.__\n",
    " \n",
    " * __Function help break out program into smaller and modular chunks. * As per out program grows larger and larger, functions make it more organized and manageable.__\n",
    " \n",
    " * __Furthermore, it avoids repetition and makes the code reuseable.__\n",
    " \n",
    " * __There are two types of functions.__\n",
    " \n",
    " * __Pre-defined function.__\n",
    " \n",
    " * __User-defined functions.__\n",
    " \n",
    " * __In Python a function is defined using the \"def\" keyword followed by the function name and parentheses().__\n",
    " \n",
    " * __Keyword def that marks the start of the function header.__\n",
    " \n",
    " * __A function name to uniquely identity the function.__\n",
    " \n",
    " * __Function naming follows the same rules of writing identifiers in Python.__\n",
    " * __Parameters(arguments) through which we pass values to a function. They are optional.__\n",
    " * __A colon(:) to mark the end of the function header.__\n",
    " * __Optional documentation string(docstring) to describe what the function does.__\n",
    " * __One or more valid python statements that make up the function body.__\n",
    " * __An Optional return statement to return a value from the functions.__\n",
    " "
   ]
  },
  {
   "cell_type": "code",
   "execution_count": 1,
   "id": "765e2765",
   "metadata": {},
   "outputs": [
    {
     "name": "stdout",
     "output_type": "stream",
     "text": [
      "If you make the above operations to display with 10, the result will be 2,18,80,1.25\n"
     ]
    },
    {
     "data": {
      "text/plain": [
       "(2, 18, 80, 1.25)"
      ]
     },
     "execution_count": 1,
     "metadata": {},
     "output_type": "execute_result"
    }
   ],
   "source": [
    "def process(x):   # x ------------------ Arguments\n",
    "    y1=x-8\n",
    "    y2=x+8\n",
    "    y3=x*8\n",
    "    y4=x/8\n",
    "    print(f'If you make the above operations to display with {x}, the result will be {y1},{y2},{y3},{y4}')\n",
    "    return y1,y2,y3,y4\n",
    "\n",
    "process(10)"
   ]
  },
  {
   "cell_type": "code",
   "execution_count": 2,
   "id": "d9047f80",
   "metadata": {},
   "outputs": [
    {
     "name": "stdout",
     "output_type": "stream",
     "text": [
      "If you make the above operations to display with 100, the result will be 92,108,800,12.5\n"
     ]
    },
    {
     "data": {
      "text/plain": [
       "(92, 108, 800, 12.5)"
      ]
     },
     "execution_count": 2,
     "metadata": {},
     "output_type": "execute_result"
    }
   ],
   "source": [
    "process(100)"
   ]
  },
  {
   "cell_type": "code",
   "execution_count": 3,
   "id": "b960e3ab",
   "metadata": {},
   "outputs": [
    {
     "name": "stdout",
     "output_type": "stream",
     "text": [
      "If you make the above operations to display with -14, the result will be -22,-6,-112,-1.75\n"
     ]
    },
    {
     "data": {
      "text/plain": [
       "(-22, -6, -112, -1.75)"
      ]
     },
     "execution_count": 3,
     "metadata": {},
     "output_type": "execute_result"
    }
   ],
   "source": [
    "process(-14)"
   ]
  },
  {
   "cell_type": "code",
   "execution_count": 2,
   "id": "217f08bc",
   "metadata": {},
   "outputs": [
    {
     "name": "stdout",
     "output_type": "stream",
     "text": [
      "Enter your nameJohn\n",
      " welcome: John\n"
     ]
    }
   ],
   "source": [
    "# Write a function to print welcome with your name.\n",
    "\n",
    "def welcome():\n",
    "    user_name=input('Enter your name')\n",
    "    return (f' welcome: {user_name}')\n",
    "    \n",
    "print(welcome())"
   ]
  },
  {
   "cell_type": "code",
   "execution_count": 3,
   "id": "80a4a04f",
   "metadata": {},
   "outputs": [
    {
     "name": "stdout",
     "output_type": "stream",
     "text": [
      "Enter your nameBalaji\n"
     ]
    },
    {
     "data": {
      "text/plain": [
       "' welcome: Balaji'"
      ]
     },
     "execution_count": 3,
     "metadata": {},
     "output_type": "execute_result"
    }
   ],
   "source": [
    "welcome()"
   ]
  },
  {
   "cell_type": "code",
   "execution_count": 4,
   "id": "a7e2196b",
   "metadata": {},
   "outputs": [
    {
     "name": "stdout",
     "output_type": "stream",
     "text": [
      "Enter your nameJohn\n"
     ]
    },
    {
     "data": {
      "text/plain": [
       "' welcome: John'"
      ]
     },
     "execution_count": 4,
     "metadata": {},
     "output_type": "execute_result"
    }
   ],
   "source": [
    "welcome()"
   ]
  },
  {
   "cell_type": "markdown",
   "id": "4af75a3e",
   "metadata": {},
   "source": [
    "# Variables\n",
    "\n",
    "\n",
    " * __The input to a function is called a formal parameter.__\n",
    " \n",
    " * __A variable that is declared inside a function is called a local variable.__\n",
    " * __The parameter only exists within the function (i.e. the point where the function starts and stops.)__\n",
    " * __A Variable that is declared outside a function definition is a global variable, and its value is accessible and modifiable throughout the program.__"
   ]
  },
  {
   "cell_type": "code",
   "execution_count": 12,
   "id": "837ad040",
   "metadata": {},
   "outputs": [
    {
     "name": "stdout",
     "output_type": "stream",
     "text": [
      "If you make the above operations with 10, the result will be 257.7595926535898.\n"
     ]
    }
   ],
   "source": [
    "# Define a function\n",
    "\n",
    "d=0\n",
    "\n",
    "def function(x):\n",
    "    y=math.pi\n",
    "    \n",
    "    z=3+25*x+1.618+y\n",
    "    \n",
    "    print(f'If you make the above operations with {x}, the result will be {z}.')\n",
    "    \n",
    "function(10)"
   ]
  },
  {
   "cell_type": "code",
   "execution_count": 13,
   "id": "5d53985d",
   "metadata": {},
   "outputs": [
    {
     "name": "stdout",
     "output_type": "stream",
     "text": [
      "If you make the above operations with 20, the result will be 507.7595926535898.\n"
     ]
    }
   ],
   "source": [
    "function(20)"
   ]
  },
  {
   "cell_type": "code",
   "execution_count": 14,
   "id": "2f40a161",
   "metadata": {},
   "outputs": [
    {
     "name": "stdout",
     "output_type": "stream",
     "text": [
      "If you make the above operations with 100, the result will be 2507.7595926535896.\n"
     ]
    }
   ],
   "source": [
    "function(100)"
   ]
  },
  {
   "cell_type": "code",
   "execution_count": 8,
   "id": "592a9339",
   "metadata": {},
   "outputs": [
    {
     "data": {
      "text/plain": [
       "2.718281828459045"
      ]
     },
     "execution_count": 8,
     "metadata": {},
     "output_type": "execute_result"
    }
   ],
   "source": [
    "e"
   ]
  },
  {
   "cell_type": "code",
   "execution_count": 11,
   "id": "0168962a",
   "metadata": {},
   "outputs": [
    {
     "data": {
      "text/plain": [
       "2.718281828459045"
      ]
     },
     "execution_count": 11,
     "metadata": {},
     "output_type": "execute_result"
    }
   ],
   "source": [
    "e"
   ]
  },
  {
   "cell_type": "markdown",
   "id": "a94f31a3",
   "metadata": {},
   "source": [
    "# without return statement, the function returns None."
   ]
  },
  {
   "cell_type": "code",
   "execution_count": 16,
   "id": "d98fd3e3",
   "metadata": {},
   "outputs": [
    {
     "name": "stdout",
     "output_type": "stream",
     "text": [
      "Hello World\n",
      "Hello Python\n"
     ]
    }
   ],
   "source": [
    "def msg():\n",
    "    print('Hello World')\n",
    "    \n",
    "def msg2():\n",
    "    print('Hello Python')\n",
    "    return None\n",
    "\n",
    "\n",
    "msg()\n",
    "msg2()"
   ]
  },
  {
   "cell_type": "code",
   "execution_count": 17,
   "id": "d8896597",
   "metadata": {},
   "outputs": [
    {
     "name": "stdout",
     "output_type": "stream",
     "text": [
      "Hello World\n",
      "None\n"
     ]
    }
   ],
   "source": [
    "print(msg())"
   ]
  },
  {
   "cell_type": "code",
   "execution_count": 18,
   "id": "3d18a504",
   "metadata": {},
   "outputs": [
    {
     "name": "stdout",
     "output_type": "stream",
     "text": [
      "Hello Python\n",
      "None\n"
     ]
    }
   ],
   "source": [
    "print(msg2())"
   ]
  },
  {
   "cell_type": "markdown",
   "id": "bab864f0",
   "metadata": {},
   "source": [
    "# Concatenation in Function."
   ]
  },
  {
   "cell_type": "code",
   "execution_count": 19,
   "id": "ae269fd9",
   "metadata": {},
   "outputs": [
    {
     "data": {
      "text/plain": [
       "'Hello World'"
      ]
     },
     "execution_count": 19,
     "metadata": {},
     "output_type": "execute_result"
    }
   ],
   "source": [
    "def string(x,y):\n",
    "    return x+y\n",
    "\n",
    "string('Hello ','World')"
   ]
  },
  {
   "cell_type": "code",
   "execution_count": 20,
   "id": "74bd3118",
   "metadata": {},
   "outputs": [
    {
     "data": {
      "text/plain": [
       "40"
      ]
     },
     "execution_count": 20,
     "metadata": {},
     "output_type": "execute_result"
    }
   ],
   "source": [
    "string(10,30)"
   ]
  },
  {
   "cell_type": "code",
   "execution_count": 21,
   "id": "29a9fb5a",
   "metadata": {},
   "outputs": [
    {
     "data": {
      "text/plain": [
       "111.59"
      ]
     },
     "execution_count": 21,
     "metadata": {},
     "output_type": "execute_result"
    }
   ],
   "source": [
    "string(45.23,66.36)"
   ]
  },
  {
   "cell_type": "code",
   "execution_count": 35,
   "id": "8a7ba08a",
   "metadata": {},
   "outputs": [
    {
     "name": "stdout",
     "output_type": "stream",
     "text": [
      "You should not watch this movie with rating value is 5.5.\n",
      "You should watch this movie with rating value is 9.\n"
     ]
    }
   ],
   "source": [
    "# WAP to print imdb rating if rating is above 8.0 then your can watch this movie. Otherwise if rating is below 8.0 it display\n",
    "# you shoud not watch this movie.\n",
    "\n",
    "def rating_value(rating=5.5):\n",
    "    if rating<8.0:\n",
    "        return f'You should not watch this movie with rating value is {rating}.'\n",
    "    else:\n",
    "        return f'You should watch this movie with rating value is {rating}.'\n",
    "    \n",
    "print(rating_value())\n",
    "print(rating_value(9))"
   ]
  },
  {
   "cell_type": "code",
   "execution_count": 36,
   "id": "1170c47c",
   "metadata": {},
   "outputs": [],
   "source": [
    "# you can print older=60+,younger=18+,tennager=below18."
   ]
  },
  {
   "cell_type": "code",
   "execution_count": 39,
   "id": "4b0b7224",
   "metadata": {},
   "outputs": [
    {
     "name": "stdout",
     "output_type": "stream",
     "text": [
      "Hello  Python\n"
     ]
    }
   ],
   "source": [
    "# define a function\n",
    "\n",
    "\n",
    "y=0\n",
    "z=0\n",
    "\n",
    "def addition(x,y):\n",
    "    '''The following function return the sum of two parameters.'''\n",
    "    \n",
    "    z=x+y\n",
    "    return z\n",
    "\n",
    "#print(addition.__doc__)\n",
    "print('Hello',' Python')"
   ]
  },
  {
   "cell_type": "code",
   "execution_count": 41,
   "id": "c20f2d52",
   "metadata": {},
   "outputs": [
    {
     "name": "stdout",
     "output_type": "stream",
     "text": [
      "The sum of the number 1 to 10 is: 55\n"
     ]
    }
   ],
   "source": [
    "# WAP to display the sum of the first ten numbers using function.\n",
    "\n",
    "def total_sum(number,sum):\n",
    "    if number==11:\n",
    "        return sum\n",
    "    else:\n",
    "        return total_sum(number+1,sum+number)\n",
    "print('The sum of the number 1 to 10 is:',total_sum(1,0))"
   ]
  },
  {
   "cell_type": "code",
   "execution_count": 43,
   "id": "3b03139d",
   "metadata": {},
   "outputs": [
    {
     "name": "stdout",
     "output_type": "stream",
     "text": [
      "The sum of number is: 55\n"
     ]
    }
   ],
   "source": [
    "def s():\n",
    "    a=0\n",
    "    for i in range(1,11):\n",
    "        a=a+i\n",
    "    print('The sum of number is:',a)\n",
    "    \n",
    "s()"
   ]
  },
  {
   "cell_type": "code",
   "execution_count": null,
   "id": "8d768436",
   "metadata": {},
   "outputs": [],
   "source": []
  }
 ],
 "metadata": {
  "kernelspec": {
   "display_name": "Python 3 (ipykernel)",
   "language": "python",
   "name": "python3"
  },
  "language_info": {
   "codemirror_mode": {
    "name": "ipython",
    "version": 3
   },
   "file_extension": ".py",
   "mimetype": "text/x-python",
   "name": "python",
   "nbconvert_exporter": "python",
   "pygments_lexer": "ipython3",
   "version": "3.9.13"
  }
 },
 "nbformat": 4,
 "nbformat_minor": 5
}
