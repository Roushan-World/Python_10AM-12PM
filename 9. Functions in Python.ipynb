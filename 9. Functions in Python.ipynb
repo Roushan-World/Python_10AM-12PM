{
 "cells": [
  {
   "cell_type": "markdown",
   "id": "0a0d9ed5",
   "metadata": {},
   "source": [
    "# 9. Functions in Python\n",
    "\n",
    "\n",
    " * __In Python, a function is a groupp of related statements that performs a specific task.__\n",
    " \n",
    " * __Function help break out program into smaller and modular chunks. * As per out program grows larger and larger, functions make it more organized and manageable.__\n",
    " \n",
    " * __Furthermore, it avoids repetition and makes the code reuseable.__\n",
    " \n",
    " * __There are two types of functions.__\n",
    " \n",
    " * __Pre-defined function.__\n",
    " \n",
    " * __User-defined functions.__\n",
    " \n",
    " * __In Python a function is defined using the \"def\" keyword followed by the function name and parentheses().__\n",
    " \n",
    " * __Keyword def that marks the start of the function header.__\n",
    " \n",
    " * __A function name to uniquely identity the function.__\n",
    " \n",
    " * __Function naming follows the same rules of writing identifiers in Python.__\n",
    " * __Parameters(arguments) through which we pass values to a function. They are optional.__\n",
    " * __A colon(:) to mark the end of the function header.__\n",
    " * __Optional documentation string(docstring) to describe what the function does.__\n",
    " * __One or more valid python statements that make up the function body.__\n",
    " * __An Optional return statement to return a value from the functions.__\n",
    " "
   ]
  },
  {
   "cell_type": "code",
   "execution_count": 1,
   "id": "765e2765",
   "metadata": {},
   "outputs": [
    {
     "name": "stdout",
     "output_type": "stream",
     "text": [
      "If you make the above operations to display with 10, the result will be 2,18,80,1.25\n"
     ]
    },
    {
     "data": {
      "text/plain": [
       "(2, 18, 80, 1.25)"
      ]
     },
     "execution_count": 1,
     "metadata": {},
     "output_type": "execute_result"
    }
   ],
   "source": [
    "def process(x):   # x ------------------ Arguments\n",
    "    y1=x-8\n",
    "    y2=x+8\n",
    "    y3=x*8\n",
    "    y4=x/8\n",
    "    print(f'If you make the above operations to display with {x}, the result will be {y1},{y2},{y3},{y4}')\n",
    "    return y1,y2,y3,y4\n",
    "\n",
    "process(10)"
   ]
  },
  {
   "cell_type": "code",
   "execution_count": 2,
   "id": "d9047f80",
   "metadata": {},
   "outputs": [
    {
     "name": "stdout",
     "output_type": "stream",
     "text": [
      "If you make the above operations to display with 100, the result will be 92,108,800,12.5\n"
     ]
    },
    {
     "data": {
      "text/plain": [
       "(92, 108, 800, 12.5)"
      ]
     },
     "execution_count": 2,
     "metadata": {},
     "output_type": "execute_result"
    }
   ],
   "source": [
    "process(100)"
   ]
  },
  {
   "cell_type": "code",
   "execution_count": 3,
   "id": "b960e3ab",
   "metadata": {},
   "outputs": [
    {
     "name": "stdout",
     "output_type": "stream",
     "text": [
      "If you make the above operations to display with -14, the result will be -22,-6,-112,-1.75\n"
     ]
    },
    {
     "data": {
      "text/plain": [
       "(-22, -6, -112, -1.75)"
      ]
     },
     "execution_count": 3,
     "metadata": {},
     "output_type": "execute_result"
    }
   ],
   "source": [
    "process(-14)"
   ]
  },
  {
   "cell_type": "code",
   "execution_count": null,
   "id": "217f08bc",
   "metadata": {},
   "outputs": [],
   "source": []
  }
 ],
 "metadata": {
  "kernelspec": {
   "display_name": "Python 3 (ipykernel)",
   "language": "python",
   "name": "python3"
  },
  "language_info": {
   "codemirror_mode": {
    "name": "ipython",
    "version": 3
   },
   "file_extension": ".py",
   "mimetype": "text/x-python",
   "name": "python",
   "nbconvert_exporter": "python",
   "pygments_lexer": "ipython3",
   "version": "3.9.13"
  }
 },
 "nbformat": 4,
 "nbformat_minor": 5
}
