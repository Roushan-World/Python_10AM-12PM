{
 "cells": [
  {
   "cell_type": "markdown",
   "id": "25a1950a",
   "metadata": {},
   "source": [
    "# 7. Comparison Operators\n",
    "\n",
    "\n",
    " * __Comparison operations compare some value or operands and based on a condition, produce a Boolean. Python has a six comaparison operators as below:__\n",
    " \n",
    " __1.Less than(<)__\n",
    " \n",
    " __2.Less than or equal to(<=)__\n",
    " \n",
    " __3.Greater than(>)__\n",
    " \n",
    " __4.Greater than or equal to(>=)__\n",
    " \n",
    " __5.Equal to(==)__\n",
    " \n",
    " __6.Not equal to (!=)__"
   ]
  },
  {
   "cell_type": "code",
   "execution_count": 7,
   "id": "5337af23",
   "metadata": {},
   "outputs": [
    {
     "name": "stdout",
     "output_type": "stream",
     "text": [
      "True\n",
      "False\n",
      "False\n",
      "True\n",
      "True\n",
      "False\n"
     ]
    }
   ],
   "source": [
    "# take sample example\n",
    "\n",
    "ratio=1.618\n",
    "\n",
    "print(ratio<2)\n",
    "print(ratio>2)\n",
    "print(ratio>=2)\n",
    "print(ratio>=1.618)\n",
    "print(ratio==1.618)\n",
    "print(ratio!=1.618)"
   ]
  },
  {
   "cell_type": "markdown",
   "id": "b79f8192",
   "metadata": {},
   "source": [
    "#  Branching (If,elif,else) statement\n",
    "\n",
    " * __Decision making is required when we want ot execute a code only if certain condition is satisfied.__\n",
    " * __The if/elif/else statement is used in Python for decision making.__\n",
    " * __An else statement can be combined with an if statement.__\n",
    " * __An else statement contains the block of code that executes if the conditional expression in the if statement resolves 0 or a false value.__\n",
    " * __The elif statement allows you to check multiple expression for True and execute a block of code as soon as on e of the condition evaluates to True.__\n",
    " * __Similar to the else, the elif statement is optional.__\n",
    " * __However, unlike else, for which there can be most one statement, there can be an arbitraty number of elif statements following an if.__"
   ]
  },
  {
   "cell_type": "code",
   "execution_count": 10,
   "id": "e12c8b53",
   "metadata": {},
   "outputs": [
    {
     "name": "stdout",
     "output_type": "stream",
     "text": [
      "ratio<pi\n"
     ]
    }
   ],
   "source": [
    "pi=3.147\n",
    "ratio=1.618\n",
    "\n",
    "if ratio<pi:\n",
    "    print('ratio<pi')\n",
    "else:\n",
    "    print('Hello World')"
   ]
  },
  {
   "cell_type": "code",
   "execution_count": 12,
   "id": "ac8a9d05",
   "metadata": {},
   "outputs": [
    {
     "name": "stdout",
     "output_type": "stream",
     "text": [
      "Enter your age\n",
      "17\n",
      "You are not eligible,Sorry\n"
     ]
    }
   ],
   "source": [
    "age=int(input('Enter your age\\n'))\n",
    "if age>=18:\n",
    "    print('You are eligible for voting.')\n",
    "else:\n",
    "    print('You are not eligible,Sorry')"
   ]
  },
  {
   "cell_type": "code",
   "execution_count": 1,
   "id": "950e0285",
   "metadata": {},
   "outputs": [
    {
     "ename": "SyntaxError",
     "evalue": "cannot assign to literal (1921484817.py, line 1)",
     "output_type": "error",
     "traceback": [
      "\u001b[1;36m  File \u001b[1;32m\"C:\\Users\\Admin\\AppData\\Local\\Temp\\ipykernel_1872\\1921484817.py\"\u001b[1;36m, line \u001b[1;32m1\u001b[0m\n\u001b[1;33m    1=Sunday\u001b[0m\n\u001b[1;37m    ^\u001b[0m\n\u001b[1;31mSyntaxError\u001b[0m\u001b[1;31m:\u001b[0m cannot assign to literal\n"
     ]
    }
   ],
   "source": [
    "1=Sunday\n",
    "2=Monday\n",
    "3=Tuesday\n",
    "4=Wednesday\n",
    "5=Thursday\n",
    "6=Friday\n",
    "7=saturday\n",
    "8='Invalid input'"
   ]
  },
  {
   "cell_type": "code",
   "execution_count": 2,
   "id": "fee15520",
   "metadata": {},
   "outputs": [
    {
     "name": "stdout",
     "output_type": "stream",
     "text": [
      "Enter month name:1\n",
      "January\n"
     ]
    }
   ],
   "source": [
    "# Write a program to find the month name using number keys ex 1=january or 2=February...................\n",
    "\n",
    "month=int(input('Enter month name:'))\n",
    "\n",
    "if month==1:\n",
    "    print('January')\n",
    "elif month==2:\n",
    "    print('February')\n",
    "elif month==3:\n",
    "    print('March')"
   ]
  },
  {
   "cell_type": "code",
   "execution_count": 6,
   "id": "4f0782a5",
   "metadata": {},
   "outputs": [
    {
     "name": "stdout",
     "output_type": "stream",
     "text": [
      "Enter any number:546646165165456484651561\n",
      "Odd Number\n"
     ]
    }
   ],
   "source": [
    "# Write a program to find the evan or odd using condition\n",
    "\n",
    "num=int(input('Enter any number:'))\n",
    "\n",
    "if num%2==0:\n",
    "    print('Even Number')\n",
    "else:\n",
    "    print('Odd Number')"
   ]
  },
  {
   "cell_type": "code",
   "execution_count": 10,
   "id": "8f8a59b3",
   "metadata": {},
   "outputs": [
    {
     "name": "stdout",
     "output_type": "stream",
     "text": [
      "Enter anu number:56\n",
      "Number is divisible by 7 and 8 both.\n"
     ]
    }
   ],
   "source": [
    "n=int(input('Enter anu number:'))\n",
    "\n",
    "if n%7==0 and n%8!=0:\n",
    "    print('Number is divisible by 7 only not 8.')\n",
    "elif n%7!=0 and n%8==0:\n",
    "    print('Number is divisible by 8 only not 7.')\n",
    "elif n%7==0 and n%8==0:\n",
    "    print('Number is divisible by 7 and 8 both.')\n",
    "else:\n",
    "    print('Number is not divisible by 7 or 8')"
   ]
  },
  {
   "cell_type": "code",
   "execution_count": 2,
   "id": "145019a9",
   "metadata": {},
   "outputs": [
    {
     "name": "stdout",
     "output_type": "stream",
     "text": [
      "Enter any number21\n"
     ]
    }
   ],
   "source": [
    "# Write a program to check the number is divisible by 3,5 or 7?  ex:- 21--------- 3,7 not 5\n",
    "\n",
    "x=int(input('Enter any number'))\n",
    "\n",
    "if x%3==0 and x%5!=0 and x%7!=0:\n",
    "    print(f'{x} is divisible by 3 only not 7 and 8')\n",
    "    \n",
    "elif x%3==0 and x%5==0 and x%7!=0:\n",
    "    print(f'{x} is divisible by 3 and 5 not 7')"
   ]
  },
  {
   "cell_type": "code",
   "execution_count": 1,
   "id": "84a91c15",
   "metadata": {},
   "outputs": [],
   "source": [
    "# Write a program to accept the percentage from the user and display grade according to the percentage:\n",
    "# percentage------------------------> Grade\n",
    "# >90 ------------------------------> \"A\"\n",
    "# >80 and <=90----------------------> \"B\"\n",
    "# >60 and <=80----------------------> \"C\"\n",
    "# Below 60 -------------------------> \"D\""
   ]
  },
  {
   "cell_type": "code",
   "execution_count": 2,
   "id": "07c4d16e",
   "metadata": {},
   "outputs": [],
   "source": [
    "#Accept the city from the user and display monuments of the city\n",
    "# city --------------- monoment\n",
    "# Delhi---------------'RedFort'\n",
    "# Agra---------------'TajMahal'\n",
    "#JaiPur -----------'HawaMahal,JalMahal'\n",
    "#AmritSar ----------'Golden Temple'\n",
    "# Madurai-----------'Minakshi Temple'\n",
    "#Mysore -------------'Mysore Palace'\n",
    "#Mumbai ---------'Gateway of India'\n",
    "#Sanchi ---------'Sanchi Stupa'\n",
    "#Hydrabad ---------'CharMinar'\n",
    "#Bihar -------------'Bodh-Gaya'"
   ]
  },
  {
   "cell_type": "code",
   "execution_count": 1,
   "id": "78df85aa",
   "metadata": {},
   "outputs": [],
   "source": [
    "# Wrute a program to find the oldest persong among three person. Person age entered by the user."
   ]
  },
  {
   "cell_type": "code",
   "execution_count": 2,
   "id": "5631d63c",
   "metadata": {},
   "outputs": [],
   "source": [
    "# Write a program to accept the age of people and display the youngest one with f-string function. "
   ]
  },
  {
   "cell_type": "code",
   "execution_count": 3,
   "id": "41730683",
   "metadata": {},
   "outputs": [],
   "source": [
    "# A transport company charges the fare according to following tables:\n",
    "\n",
    "# Distance--------------------Charges\n",
    "# 1-50 km -------------------- Rs.8 per/km\n",
    "# 51-100 km ------------------ Rs. 10/km\n",
    "# >100 ----------------------- Rs. 12/km"
   ]
  },
  {
   "cell_type": "code",
   "execution_count": 4,
   "id": "b423016f",
   "metadata": {},
   "outputs": [],
   "source": [
    "# Accept the marked price from the user and calculate the net amount (marked price-Discount).\n",
    "\n",
    "# marked price --------------------> Discount\n",
    "# > 10000 -------------------------> 20%\n",
    "# > 7000 and <=10000---------------> 15%\n",
    "# <=7000 --------------------------> 10%\n",
    "\n"
   ]
  },
  {
   "cell_type": "code",
   "execution_count": 1,
   "id": "f308c43b",
   "metadata": {},
   "outputs": [],
   "source": [
    "# A student will not be allowed to sit in the exam if his/her attendence is less then 75%\n",
    "# Take following input from the user\n",
    "# Number of classes held\n",
    "# Number of classes attended.\n",
    "\n",
    "# Output\n",
    "# Percentage of classes attended\n",
    "# Is student is allow to sit in the exam or not."
   ]
  },
  {
   "cell_type": "code",
   "execution_count": 2,
   "id": "afbaf30e",
   "metadata": {},
   "outputs": [],
   "source": [
    "# Ask the user to enter age, Sex(M of F), Material status(Y Or N) and then using following rules print their places of services.\n",
    "# If employee is female, then she will work only in urban areas.\n",
    "# If employee is a male and age is in between 20 to 40 then he may work in anywhere."
   ]
  },
  {
   "cell_type": "code",
   "execution_count": 3,
   "id": "72d6954b",
   "metadata": {},
   "outputs": [],
   "source": [
    "# A Shop will give you discount of 10% if the cost purchased quantity is more than 1000.\n",
    "# Ask the user for quantity\n",
    "# Suppose, One unit will cost 100\n",
    "# i.e total quantity of product:45\n",
    "# Total cost is 4500, so discount applied: 4050 i.e 10%, since your total cost is above 1000 rs.\n"
   ]
  },
  {
   "cell_type": "code",
   "execution_count": 12,
   "id": "4e27a38e",
   "metadata": {},
   "outputs": [
    {
     "name": "stdout",
     "output_type": "stream",
     "text": [
      "Enter the length of the rectangle:12\n",
      "Enter breadth of the rectangle:23\n",
      "It is not square\n",
      "Total area 12 and 23 of rectangle: 529\n"
     ]
    }
   ],
   "source": [
    "# Take values of length and breadth of a rectangle from the used and find the area of rectangle and \n",
    "# check if it is square or not.\n",
    "\n",
    "length=int(input('Enter the length of the rectangle:'))\n",
    "breadth=int(input('Enter breadth of the rectangle:'))\n",
    "\n",
    "if length==breadth:\n",
    "    area=length*breadth\n",
    "    print('It is square')\n",
    "else:\n",
    "    print('It is not square')\n",
    "    \n",
    "print(f'Total area {length} and {breadth} of rectangle: {area}')"
   ]
  },
  {
   "cell_type": "code",
   "execution_count": null,
   "id": "aa3cfcb9",
   "metadata": {},
   "outputs": [],
   "source": []
  }
 ],
 "metadata": {
  "kernelspec": {
   "display_name": "Python 3 (ipykernel)",
   "language": "python",
   "name": "python3"
  },
  "language_info": {
   "codemirror_mode": {
    "name": "ipython",
    "version": 3
   },
   "file_extension": ".py",
   "mimetype": "text/x-python",
   "name": "python",
   "nbconvert_exporter": "python",
   "pygments_lexer": "ipython3",
   "version": "3.9.13"
  }
 },
 "nbformat": 4,
 "nbformat_minor": 5
}
