{
 "cells": [
  {
   "cell_type": "markdown",
   "id": "25a1950a",
   "metadata": {},
   "source": [
    "# 7. Comparison Operators\n",
    "\n",
    "\n",
    " * __Comparison operations compare some value or operands and based on a condition, produce a Boolean. Python has a six comaparison operators as below:__\n",
    " \n",
    " __1.Less than(<)__\n",
    " \n",
    " __2.Less than or equal to(<=)__\n",
    " \n",
    " __3.Greater than(>)__\n",
    " \n",
    " __4.Greater than or equal to(>=)__\n",
    " \n",
    " __5.Equal to(==)__\n",
    " \n",
    " __6.Not equal to (!=)__"
   ]
  },
  {
   "cell_type": "code",
   "execution_count": 7,
   "id": "5337af23",
   "metadata": {},
   "outputs": [
    {
     "name": "stdout",
     "output_type": "stream",
     "text": [
      "True\n",
      "False\n",
      "False\n",
      "True\n",
      "True\n",
      "False\n"
     ]
    }
   ],
   "source": [
    "# take sample example\n",
    "\n",
    "ratio=1.618\n",
    "\n",
    "print(ratio<2)\n",
    "print(ratio>2)\n",
    "print(ratio>=2)\n",
    "print(ratio>=1.618)\n",
    "print(ratio==1.618)\n",
    "print(ratio!=1.618)"
   ]
  },
  {
   "cell_type": "markdown",
   "id": "b79f8192",
   "metadata": {},
   "source": [
    "#  Branching (If,elif,else) statement\n",
    "\n",
    " * __Decision making is required when we want ot execute a code only if certain condition is satisfied.__\n",
    " * __The if/elif/else statement is used in Python for decision making.__\n",
    " * __An else statement can be combined with an if statement.__\n",
    " * __An else statement contains the block of code that executes if the conditional expression in the if statement resolves 0 or a false value.__\n",
    " * __The elif statement allows you to check multiple expression for True and execute a block of code as soon as on e of the condition evaluates to True.__\n",
    " * __Similar to the else, the elif statement is optional.__\n",
    " * __However, unlike else, for which there can be most one statement, there can be an arbitraty number of elif statements following an if.__"
   ]
  },
  {
   "cell_type": "code",
   "execution_count": 10,
   "id": "e12c8b53",
   "metadata": {},
   "outputs": [
    {
     "name": "stdout",
     "output_type": "stream",
     "text": [
      "ratio<pi\n"
     ]
    }
   ],
   "source": [
    "pi=3.147\n",
    "ratio=1.618\n",
    "\n",
    "if ratio<pi:\n",
    "    print('ratio<pi')\n",
    "else:\n",
    "    print('Hello World')"
   ]
  },
  {
   "cell_type": "code",
   "execution_count": 12,
   "id": "ac8a9d05",
   "metadata": {},
   "outputs": [
    {
     "name": "stdout",
     "output_type": "stream",
     "text": [
      "Enter your age\n",
      "17\n",
      "You are not eligible,Sorry\n"
     ]
    }
   ],
   "source": [
    "age=int(input('Enter your age\\n'))\n",
    "if age>=18:\n",
    "    print('You are eligible for voting.')\n",
    "else:\n",
    "    print('You are not eligible,Sorry')"
   ]
  },
  {
   "cell_type": "code",
   "execution_count": null,
   "id": "950e0285",
   "metadata": {},
   "outputs": [],
   "source": [
    "1=Sunday\n",
    "2=Monday\n",
    "3=Tuesday\n",
    "4=Wednesday\n",
    "5=Thursday\n",
    "6=Friday\n",
    "7=saturday\n",
    "8='Invalid input'"
   ]
  }
 ],
 "metadata": {
  "kernelspec": {
   "display_name": "Python 3 (ipykernel)",
   "language": "python",
   "name": "python3"
  },
  "language_info": {
   "codemirror_mode": {
    "name": "ipython",
    "version": 3
   },
   "file_extension": ".py",
   "mimetype": "text/x-python",
   "name": "python",
   "nbconvert_exporter": "python",
   "pygments_lexer": "ipython3",
   "version": "3.9.13"
  }
 },
 "nbformat": 4,
 "nbformat_minor": 5
}
