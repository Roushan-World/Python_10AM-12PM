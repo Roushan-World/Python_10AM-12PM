{
 "cells": [
  {
   "cell_type": "markdown",
   "id": "2b38e3d0",
   "metadata": {},
   "source": [
    "#  6. Dictionary in Python\n",
    "\n",
    " * __Dictionary are used to store data values in Key:Values Pairs.__\n",
    " \n",
    " * __A dictionary is a collection Which is ordered, changeable or mutable and do not allowed duplcate.__\n",
    " * __Dictionary items are presented in Key:Values paris, and can be referred to by using the key name.__\n",
    " * __Dictionary are changeable, meaning that we can add,change or remove items after the dictionary has been creadted.__\n",
    " * __Dictionaries cannot have two items with same key name.__\n",
    " * __A dictionary can be nested and can contains another dictionary.__\n",
    " \n",
    "         * __Keys--------------------------Values___\n",
    "         * __'name'------------------------'Bob'__\n",
    "         * __'age'-------------------------40__\n",
    "         * __'Job'-------------------------'Software Engineer'__\n",
    "         * __'address'---------------------'Texas,USA'\n",
    "         * __'Emails'----------------------'bob26@gmail.com'__"
   ]
  },
  {
   "cell_type": "code",
   "execution_count": 1,
   "id": "dac9fa4f",
   "metadata": {},
   "outputs": [
    {
     "data": {
      "text/plain": [
       "{}"
      ]
     },
     "execution_count": 1,
     "metadata": {},
     "output_type": "execute_result"
    }
   ],
   "source": [
    "x={}\n",
    "x"
   ]
  },
  {
   "cell_type": "code",
   "execution_count": 2,
   "id": "4c58a883",
   "metadata": {},
   "outputs": [
    {
     "data": {
      "text/plain": [
       "{'key_1': 3.14,\n",
       " 5: 'number',\n",
       " 'Key_2': 'Hello World',\n",
       " 'Key_3': True,\n",
       " 'Key_4': False,\n",
       " 'x': [123, 'Hello World']}"
      ]
     },
     "execution_count": 2,
     "metadata": {},
     "output_type": "execute_result"
    }
   ],
   "source": [
    "sample_dict={'key_1':3.14,5:'number','Key_2':'Hello World',\n",
    "            'Key_3':True,'Key_4':False,'x':[123,'Hello World']}\n",
    "sample_dict"
   ]
  },
  {
   "cell_type": "code",
   "execution_count": 3,
   "id": "fa139ba2",
   "metadata": {},
   "outputs": [
    {
     "name": "stdout",
     "output_type": "stream",
     "text": [
      "<class 'dict'>\n"
     ]
    }
   ],
   "source": [
    "print(type(sample_dict))"
   ]
  },
  {
   "cell_type": "code",
   "execution_count": 4,
   "id": "f732cc45",
   "metadata": {},
   "outputs": [
    {
     "data": {
      "text/plain": [
       "dict_keys(['key_1', 5, 'Key_2', 'Key_3', 'Key_4', 'x'])"
      ]
     },
     "execution_count": 4,
     "metadata": {},
     "output_type": "execute_result"
    }
   ],
   "source": [
    "sample_dict.keys()"
   ]
  },
  {
   "cell_type": "code",
   "execution_count": 5,
   "id": "90554807",
   "metadata": {},
   "outputs": [
    {
     "data": {
      "text/plain": [
       "dict_values([3.14, 'number', 'Hello World', True, False, [123, 'Hello World']])"
      ]
     },
     "execution_count": 5,
     "metadata": {},
     "output_type": "execute_result"
    }
   ],
   "source": [
    "sample_dict.values()"
   ]
  },
  {
   "cell_type": "code",
   "execution_count": null,
   "id": "f104eb9e",
   "metadata": {},
   "outputs": [],
   "source": [
    "name\n",
    "age\n",
    "email_id\n",
    "phone_no\n",
    "address\n",
    "hobby\n",
    "qualification"
   ]
  },
  {
   "cell_type": "code",
   "execution_count": 1,
   "id": "d9d6181b",
   "metadata": {},
   "outputs": [
    {
     "data": {
      "text/plain": [
       "{'name': 'Balaji Panchal',\n",
       " 'age': 25,\n",
       " 'email_id': 'balajipanchal96@gmail.com',\n",
       " 'phone_number': 8983128390,\n",
       " 'address': 'sambhajinagar',\n",
       " 'hobby': 'driving',\n",
       " 'qualification': 'B.tech'}"
      ]
     },
     "execution_count": 1,
     "metadata": {},
     "output_type": "execute_result"
    }
   ],
   "source": [
    "personal_information={'name':'Balaji Panchal','age':25,'email_id':'balajipanchal96@gmail.com',\n",
    "                      'phone_number':8983128390,'address':'sambhajinagar','hobby':'driving',\n",
    "                     'qualification':'B.tech'}\n",
    "\n",
    "personal_information"
   ]
  },
  {
   "cell_type": "code",
   "execution_count": 2,
   "id": "09554e48",
   "metadata": {},
   "outputs": [
    {
     "data": {
      "text/plain": [
       "{'name': 'Balaji Panchal',\n",
       " 'age': 25,\n",
       " 'email_id': 'balajipanchal96@gmail.com',\n",
       " 'phone_number': 8983128390,\n",
       " 'address': 'sambhajinagar',\n",
       " 'hobby': 'driving',\n",
       " 'qualification': 'B.tech',\n",
       " 'Job': 'Software Developer'}"
      ]
     },
     "execution_count": 2,
     "metadata": {},
     "output_type": "execute_result"
    }
   ],
   "source": [
    "#Adding the new key and value.\n",
    "personal_information['Job']='Software Developer'\n",
    "\n",
    "personal_information"
   ]
  },
  {
   "cell_type": "code",
   "execution_count": 4,
   "id": "d48a910f",
   "metadata": {},
   "outputs": [
    {
     "name": "stdout",
     "output_type": "stream",
     "text": [
      "{'name': 'Balaji Panchal', 'age': 25, 'email_id': 'balajipanchal96@gmail.com', 'phone_number': 8983128390, 'address': 'sambhajinagar', 'hobby': 'driving', 'qualification': 'B.tech', 'Job': 'Cyber Security', 'job': 'Cyber Security'}\n"
     ]
    }
   ],
   "source": [
    "# updating the key value:\n",
    "\n",
    "personal_information['Job']='Cyber Security'\n",
    "print(personal_information)"
   ]
  },
  {
   "cell_type": "code",
   "execution_count": 5,
   "id": "57118277",
   "metadata": {},
   "outputs": [],
   "source": [
    "# Deleting the key and value\n",
    "\n",
    "del(personal_information['job'])"
   ]
  },
  {
   "cell_type": "code",
   "execution_count": 6,
   "id": "0528610d",
   "metadata": {},
   "outputs": [
    {
     "data": {
      "text/plain": [
       "{'name': 'Balaji Panchal',\n",
       " 'age': 25,\n",
       " 'email_id': 'balajipanchal96@gmail.com',\n",
       " 'phone_number': 8983128390,\n",
       " 'address': 'sambhajinagar',\n",
       " 'hobby': 'driving',\n",
       " 'qualification': 'B.tech',\n",
       " 'Job': 'Cyber Security'}"
      ]
     },
     "execution_count": 6,
     "metadata": {},
     "output_type": "execute_result"
    }
   ],
   "source": [
    "personal_information"
   ]
  },
  {
   "cell_type": "code",
   "execution_count": 7,
   "id": "98bed6ae",
   "metadata": {},
   "outputs": [
    {
     "data": {
      "text/plain": [
       "{'soap': 'dove',\n",
       " 'biscuit': 'gooday',\n",
       " 'oil': 'ricebrain oil',\n",
       " 'milk': 'cow milk',\n",
       " 'icecream': 'rajbhoj'}"
      ]
     },
     "execution_count": 7,
     "metadata": {},
     "output_type": "execute_result"
    }
   ],
   "source": [
    "# Create a dictionary(product) with key('soap','Biscuit','oil','Milk','ice-cream')\n",
    "product={'soap':'dove','biscuit':'gooday','oil':'ricebrain oil','milk':'cow milk','icecream':'rajbhoj'}\n",
    "product\n"
   ]
  },
  {
   "cell_type": "markdown",
   "id": "7a0c48e7",
   "metadata": {},
   "source": [
    "# Verification using in or not in"
   ]
  },
  {
   "cell_type": "code",
   "execution_count": 13,
   "id": "088f3d1c",
   "metadata": {},
   "outputs": [
    {
     "name": "stdout",
     "output_type": "stream",
     "text": [
      "True\n",
      "True\n",
      "False\n",
      "True\n"
     ]
    }
   ],
   "source": [
    "print('soap' in product)\n",
    "print('oil' in product)\n",
    "print('Milk' in product)\n",
    "print('icecream' in product)"
   ]
  },
  {
   "cell_type": "code",
   "execution_count": 17,
   "id": "c3b473e2",
   "metadata": {},
   "outputs": [
    {
     "data": {
      "text/plain": [
       "{'family': 'music', 'type': 'pop', 'year': '2024', 'name': 'happy new year'}"
      ]
     },
     "execution_count": 17,
     "metadata": {},
     "output_type": "execute_result"
    }
   ],
   "source": [
    "dict_tuple=dict(family='music',type='pop',year='2024',name='happy new year')\n",
    "dict_tuple"
   ]
  },
  {
   "cell_type": "code",
   "execution_count": 18,
   "id": "072c1927",
   "metadata": {},
   "outputs": [
    {
     "data": {
      "text/plain": [
       "dict_keys(['family', 'type', 'year', 'name'])"
      ]
     },
     "execution_count": 18,
     "metadata": {},
     "output_type": "execute_result"
    }
   ],
   "source": [
    "dict_tuple.keys()"
   ]
  },
  {
   "cell_type": "code",
   "execution_count": 19,
   "id": "f26d87f8",
   "metadata": {},
   "outputs": [
    {
     "data": {
      "text/plain": [
       "dict_values(['music', 'pop', '2024', 'happy new year'])"
      ]
     },
     "execution_count": 19,
     "metadata": {},
     "output_type": "execute_result"
    }
   ],
   "source": [
    "dict_tuple.values()"
   ]
  },
  {
   "cell_type": "code",
   "execution_count": 24,
   "id": "57c55e31",
   "metadata": {},
   "outputs": [
    {
     "name": "stdout",
     "output_type": "stream",
     "text": [
      "{'family': 'music', 'type': 'pop', 'year': '2024', 'name': 'happy new year'}\n",
      "{'family': 'music', 'type': 'pop', 'year': '2024', 'name': 'happy new year'}\n",
      "{'family': 'music', 'type': 'pop', 'year': '2024', 'name': 'happy new year', 'name1': 'Suhana'}\n",
      "{'family': 'music', 'type': 'pop', 'year': '2024', 'name': 'happy new year', 'name1': 'Suhana'}\n"
     ]
    }
   ],
   "source": [
    "# copy the dictionary \n",
    "dict_original=dict(family='music',type='pop',year='2024',name='happy new year')\n",
    "\n",
    "print(dict_original)\n",
    "\n",
    "dict_copy=dict_original\n",
    "print(dict_copy)\n",
    "dict_original['name1']='Suhana'\n",
    "print(dict_copy)\n",
    "print(dict_original)"
   ]
  },
  {
   "cell_type": "code",
   "execution_count": 28,
   "id": "1f85406d",
   "metadata": {},
   "outputs": [
    {
     "name": "stdout",
     "output_type": "stream",
     "text": [
      "{'family': 'music', 'type': 'pop', 'year': '2024', 'name': 'happy new year'}\n",
      "{'family': 'music', 'type': 'pop', 'year': '2024', 'name': 'happy new year'}\n",
      "{'family': 'music', 'type': 'pop', 'year': '2024', 'name': 'happy new year', 'name1': 'balaji'}\n",
      "{'family': 'music', 'type': 'pop', 'year': '2024', 'name': 'happy new year'}\n"
     ]
    }
   ],
   "source": [
    "# copy the dictionary \n",
    "dict_original=dict(family='music',type='pop',year='2024',name='happy new year')\n",
    "print(dict_original)\n",
    "\n",
    "dict_copy1=dict_original.copy()\n",
    "print(dict_copy1)\n",
    "\n",
    "dict_original['name1']='balaji'\n",
    "print(dict_original)\n",
    "print(dict_copy1)"
   ]
  },
  {
   "cell_type": "code",
   "execution_count": null,
   "id": "75465289",
   "metadata": {},
   "outputs": [],
   "source": []
  }
 ],
 "metadata": {
  "kernelspec": {
   "display_name": "Python 3 (ipykernel)",
   "language": "python",
   "name": "python3"
  },
  "language_info": {
   "codemirror_mode": {
    "name": "ipython",
    "version": 3
   },
   "file_extension": ".py",
   "mimetype": "text/x-python",
   "name": "python",
   "nbconvert_exporter": "python",
   "pygments_lexer": "ipython3",
   "version": "3.9.13"
  }
 },
 "nbformat": 4,
 "nbformat_minor": 5
}
