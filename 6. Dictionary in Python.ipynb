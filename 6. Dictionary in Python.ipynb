{
 "cells": [
  {
   "cell_type": "markdown",
   "id": "2b38e3d0",
   "metadata": {},
   "source": [
    "#  6. Dictionary in Python\n",
    "\n",
    " * __Dictionary are used to store data values in Key:Values Pairs.__\n",
    " \n",
    " * __A dictionary is a collection Which is ordered, changeable or mutable and do not allowed duplcate.__\n",
    " * __Dictionary items are presented in Key:Values paris, and can be referred to by using the key name.__\n",
    " * __Dictionary are changeable, meaning that we can add,change or remove items after the dictionary has been creadted.__\n",
    " * __Dictionaries cannot have two items with same key name.__\n",
    " * __A dictionary can be nested and can contains another dictionary.__\n",
    " \n",
    "         * __Keys--------------------------Values___\n",
    "         * __'name'------------------------'Bob'__\n",
    "         * __'age'-------------------------40__\n",
    "         * __'Job'-------------------------'Software Engineer'__\n",
    "         * __'address'---------------------'Texas,USA'\n",
    "         * __'Emails'----------------------'bob26@gmail.com'__"
   ]
  },
  {
   "cell_type": "code",
   "execution_count": 1,
   "id": "dac9fa4f",
   "metadata": {},
   "outputs": [
    {
     "data": {
      "text/plain": [
       "{}"
      ]
     },
     "execution_count": 1,
     "metadata": {},
     "output_type": "execute_result"
    }
   ],
   "source": [
    "x={}\n",
    "x"
   ]
  },
  {
   "cell_type": "code",
   "execution_count": 2,
   "id": "4c58a883",
   "metadata": {},
   "outputs": [
    {
     "data": {
      "text/plain": [
       "{'key_1': 3.14,\n",
       " 5: 'number',\n",
       " 'Key_2': 'Hello World',\n",
       " 'Key_3': True,\n",
       " 'Key_4': False,\n",
       " 'x': [123, 'Hello World']}"
      ]
     },
     "execution_count": 2,
     "metadata": {},
     "output_type": "execute_result"
    }
   ],
   "source": [
    "sample_dict={'key_1':3.14,5:'number','Key_2':'Hello World',\n",
    "            'Key_3':True,'Key_4':False,'x':[123,'Hello World']}\n",
    "sample_dict"
   ]
  },
  {
   "cell_type": "code",
   "execution_count": 3,
   "id": "fa139ba2",
   "metadata": {},
   "outputs": [
    {
     "name": "stdout",
     "output_type": "stream",
     "text": [
      "<class 'dict'>\n"
     ]
    }
   ],
   "source": [
    "print(type(sample_dict))"
   ]
  },
  {
   "cell_type": "code",
   "execution_count": 4,
   "id": "f732cc45",
   "metadata": {},
   "outputs": [
    {
     "data": {
      "text/plain": [
       "dict_keys(['key_1', 5, 'Key_2', 'Key_3', 'Key_4', 'x'])"
      ]
     },
     "execution_count": 4,
     "metadata": {},
     "output_type": "execute_result"
    }
   ],
   "source": [
    "sample_dict.keys()"
   ]
  },
  {
   "cell_type": "code",
   "execution_count": 5,
   "id": "90554807",
   "metadata": {},
   "outputs": [
    {
     "data": {
      "text/plain": [
       "dict_values([3.14, 'number', 'Hello World', True, False, [123, 'Hello World']])"
      ]
     },
     "execution_count": 5,
     "metadata": {},
     "output_type": "execute_result"
    }
   ],
   "source": [
    "sample_dict.values()"
   ]
  },
  {
   "cell_type": "code",
   "execution_count": null,
   "id": "f104eb9e",
   "metadata": {},
   "outputs": [],
   "source": [
    "name\n",
    "age\n",
    "email_id\n",
    "phone_no\n",
    "address\n",
    "hobby\n",
    "qualification"
   ]
  }
 ],
 "metadata": {
  "kernelspec": {
   "display_name": "Python 3 (ipykernel)",
   "language": "python",
   "name": "python3"
  },
  "language_info": {
   "codemirror_mode": {
    "name": "ipython",
    "version": 3
   },
   "file_extension": ".py",
   "mimetype": "text/x-python",
   "name": "python",
   "nbconvert_exporter": "python",
   "pygments_lexer": "ipython3",
   "version": "3.9.13"
  }
 },
 "nbformat": 4,
 "nbformat_minor": 5
}
