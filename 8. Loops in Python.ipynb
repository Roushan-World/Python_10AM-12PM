{
 "cells": [
  {
   "cell_type": "markdown",
   "id": "0970ae37",
   "metadata": {},
   "source": [
    "# 8. Loops in Python\n",
    "\n",
    " * __A for loop is used for iterating over a sequence(either a list, tuple, a dicitionary, a set, or a string).__\n",
    " * __This is less like the for keyword in other programming languages, and works more like an iterators method as found object-oriented programming languages.__\n",
    " * __With the for loop we can execute a set of statements, once for each item in a list, tuple, set etc.__\n",
    " * __The for loop does not require an indexing variable to set beforehand.__\n",
    " * __With the for loop we can execute a set of statements as long as a condition is true.__\n",
    " * __Note: Remember to increment, i, or else the loop will continue forever.__\n",
    " * __The while loop requires relevant variables to be ready, in this example we need to define an indexing variable, i, which we set to __\n",
    " \n",
    " \n",
    "# range() function\n",
    "\n",
    " * __It is helpful to think of the range object as an ordered list.__\n",
    " * __To loop though a set of code specified number of times, we can use the range() function.__\n",
    " * __The range() function returns a sequence of numbers, starting from  by default, and increments by (by default) and ends at a specified number.__"
   ]
  },
  {
   "cell_type": "code",
   "execution_count": 2,
   "id": "0cef710a",
   "metadata": {},
   "outputs": [
    {
     "name": "stdout",
     "output_type": "stream",
     "text": [
      "range(0, 10)\n",
      "range(0, 100)\n"
     ]
    }
   ],
   "source": [
    "print(range(10))\n",
    "print(range(100))"
   ]
  },
  {
   "cell_type": "code",
   "execution_count": 3,
   "id": "5646ca5a",
   "metadata": {},
   "outputs": [
    {
     "name": "stdout",
     "output_type": "stream",
     "text": [
      "2005\n",
      "2006\n",
      "2007\n",
      "2008\n",
      "2009\n",
      "2010\n",
      "2011\n",
      "2012\n",
      "2013\n"
     ]
    }
   ],
   "source": [
    "years=[2005,2006,2007,2008,2009,2010,2011,2012,2013]\n",
    "\n",
    "\n",
    "for i in years:\n",
    "    print(i)"
   ]
  },
  {
   "cell_type": "code",
   "execution_count": 12,
   "id": "a8eb49ab",
   "metadata": {},
   "outputs": [
    {
     "name": "stdout",
     "output_type": "stream",
     "text": [
      "0 2005\n",
      "1 2006\n",
      "2 2007\n",
      "3 2008\n",
      "4 2009\n",
      "5 2010\n",
      "6 2011\n",
      "7 2012\n",
      "8 2013\n"
     ]
    }
   ],
   "source": [
    "for x in range(len(years)):\n",
    "    print(x,years[x])"
   ]
  },
  {
   "cell_type": "code",
   "execution_count": null,
   "id": "e22b1841",
   "metadata": {},
   "outputs": [],
   "source": []
  },
  {
   "cell_type": "code",
   "execution_count": 11,
   "id": "9029b37d",
   "metadata": {},
   "outputs": [
    {
     "name": "stdout",
     "output_type": "stream",
     "text": [
      "0 Python\n",
      "1 C\n",
      "2 C++\n",
      "3 PHP\n",
      "4 Laravel\n",
      "5 Java\n",
      "6 JavaScript\n"
     ]
    }
   ],
   "source": [
    "language=['Python','C','C++','PHP','Laravel','Java','JavaScript']\n",
    "\n",
    "for i in range(len(language)):\n",
    "    print(i,language[i])"
   ]
  },
  {
   "cell_type": "code",
   "execution_count": 17,
   "id": "15384594",
   "metadata": {},
   "outputs": [
    {
     "name": "stdout",
     "output_type": "stream",
     "text": [
      "Enter any number:19\n",
      "19 X 1 = 19\n",
      "19 X 2 = 38\n",
      "19 X 3 = 57\n",
      "19 X 4 = 76\n",
      "19 X 5 = 95\n",
      "19 X 6 = 114\n",
      "19 X 7 = 133\n",
      "19 X 8 = 152\n",
      "19 X 9 = 171\n",
      "19 X 10 = 190\n"
     ]
    }
   ],
   "source": [
    "num=int(input('Enter any number:'))\n",
    "\n",
    "for i in range(1,11):\n",
    "    print('%d X %d = %d'%(num,i,num*i))"
   ]
  },
  {
   "cell_type": "code",
   "execution_count": 20,
   "id": "debd4b69",
   "metadata": {},
   "outputs": [
    {
     "name": "stdout",
     "output_type": "stream",
     "text": [
      "935.06\n",
      "Average 93.506\n"
     ]
    }
   ],
   "source": [
    "# find the total of the number, find average of the number\n",
    "x = [0.577,1.618,2.718,3.147,6,36,37,100,200,548]\n",
    "count=0\n",
    "for i in x:\n",
    "    count+=i\n",
    "print(count)\n",
    "print('Average',count/len(x))"
   ]
  },
  {
   "cell_type": "code",
   "execution_count": 28,
   "id": "da9f37e5",
   "metadata": {},
   "outputs": [
    {
     "name": "stdout",
     "output_type": "stream",
     "text": [
      "Maximum no. 963\n",
      "Minimum no. 100.23\n",
      "Total sum is: 10036.23\n",
      "Average is: 716.8735714285714\n",
      "Median of: 852\n"
     ]
    }
   ],
   "source": [
    "# Find the max,min,total, average, median\n",
    "\n",
    "list1=[100.23,456,744,741,789,951,453,852,746,845,963,753,854,789]\n",
    "\n",
    "print('Maximum no.',max(list1))\n",
    "print('Minimum no.',min(list1))\n",
    "sum=0\n",
    "\n",
    "for i in list1:\n",
    "    sum+=i\n",
    "print('Total sum is:',sum)\n",
    "\n",
    "print('Average is:',sum/len(list1))\n",
    "\n",
    "m=len(list1)//2\n",
    "print('Median of:',list1[m])\n",
    "\n"
   ]
  },
  {
   "cell_type": "code",
   "execution_count": null,
   "id": "4dcc6270",
   "metadata": {},
   "outputs": [],
   "source": []
  }
 ],
 "metadata": {
  "kernelspec": {
   "display_name": "Python 3 (ipykernel)",
   "language": "python",
   "name": "python3"
  },
  "language_info": {
   "codemirror_mode": {
    "name": "ipython",
    "version": 3
   },
   "file_extension": ".py",
   "mimetype": "text/x-python",
   "name": "python",
   "nbconvert_exporter": "python",
   "pygments_lexer": "ipython3",
   "version": "3.9.13"
  }
 },
 "nbformat": 4,
 "nbformat_minor": 5
}
