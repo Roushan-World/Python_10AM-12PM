{
 "cells": [
  {
   "cell_type": "markdown",
   "id": "0970ae37",
   "metadata": {},
   "source": [
    "# 8. Loops in Python\n",
    "\n",
    " * __A for loop is used for iterating over a sequence(either a list, tuple, a dicitionary, a set, or a string).__\n",
    " * __This is less like the for keyword in other programming languages, and works more like an iterators method as found object-oriented programming languages.__\n",
    " * __With the for loop we can execute a set of statements, once for each item in a list, tuple, set etc.__\n",
    " * __The for loop does not require an indexing variable to set beforehand.__\n",
    " * __With the for loop we can execute a set of statements as long as a condition is true.__\n",
    " * __Note: Remember to increment, i, or else the loop will continue forever.__\n",
    " * __The while loop requires relevant variables to be ready, in this example we need to define an indexing variable, i, which we set to __\n",
    " \n",
    " \n",
    "# range() function\n",
    "\n",
    " * __It is helpful to think of the range object as an ordered list.__\n",
    " * __To loop though a set of code specified number of times, we can use the range() function.__\n",
    " * __The range() function returns a sequence of numbers, starting from  by default, and increments by (by default) and ends at a specified number.__"
   ]
  },
  {
   "cell_type": "code",
   "execution_count": 2,
   "id": "0cef710a",
   "metadata": {},
   "outputs": [
    {
     "name": "stdout",
     "output_type": "stream",
     "text": [
      "range(0, 10)\n",
      "range(0, 100)\n"
     ]
    }
   ],
   "source": [
    "print(range(10))\n",
    "print(range(100))"
   ]
  },
  {
   "cell_type": "code",
   "execution_count": 3,
   "id": "5646ca5a",
   "metadata": {},
   "outputs": [
    {
     "name": "stdout",
     "output_type": "stream",
     "text": [
      "2005\n",
      "2006\n",
      "2007\n",
      "2008\n",
      "2009\n",
      "2010\n",
      "2011\n",
      "2012\n",
      "2013\n"
     ]
    }
   ],
   "source": [
    "years=[2005,2006,2007,2008,2009,2010,2011,2012,2013]\n",
    "\n",
    "\n",
    "for i in years:\n",
    "    print(i)"
   ]
  },
  {
   "cell_type": "code",
   "execution_count": 12,
   "id": "a8eb49ab",
   "metadata": {},
   "outputs": [
    {
     "name": "stdout",
     "output_type": "stream",
     "text": [
      "0 2005\n",
      "1 2006\n",
      "2 2007\n",
      "3 2008\n",
      "4 2009\n",
      "5 2010\n",
      "6 2011\n",
      "7 2012\n",
      "8 2013\n"
     ]
    }
   ],
   "source": [
    "for x in range(len(years)):\n",
    "    print(x,years[x])"
   ]
  },
  {
   "cell_type": "code",
   "execution_count": null,
   "id": "e22b1841",
   "metadata": {},
   "outputs": [],
   "source": []
  },
  {
   "cell_type": "code",
   "execution_count": 11,
   "id": "9029b37d",
   "metadata": {},
   "outputs": [
    {
     "name": "stdout",
     "output_type": "stream",
     "text": [
      "0 Python\n",
      "1 C\n",
      "2 C++\n",
      "3 PHP\n",
      "4 Laravel\n",
      "5 Java\n",
      "6 JavaScript\n"
     ]
    }
   ],
   "source": [
    "language=['Python','C','C++','PHP','Laravel','Java','JavaScript']\n",
    "\n",
    "for i in range(len(language)):\n",
    "    print(i,language[i])"
   ]
  },
  {
   "cell_type": "code",
   "execution_count": 17,
   "id": "15384594",
   "metadata": {},
   "outputs": [
    {
     "name": "stdout",
     "output_type": "stream",
     "text": [
      "Enter any number:19\n",
      "19 X 1 = 19\n",
      "19 X 2 = 38\n",
      "19 X 3 = 57\n",
      "19 X 4 = 76\n",
      "19 X 5 = 95\n",
      "19 X 6 = 114\n",
      "19 X 7 = 133\n",
      "19 X 8 = 152\n",
      "19 X 9 = 171\n",
      "19 X 10 = 190\n"
     ]
    }
   ],
   "source": [
    "num=int(input('Enter any number:'))\n",
    "\n",
    "for i in range(1,11):\n",
    "    print('%d X %d = %d'%(num,i,num*i))"
   ]
  },
  {
   "cell_type": "code",
   "execution_count": 20,
   "id": "debd4b69",
   "metadata": {},
   "outputs": [
    {
     "name": "stdout",
     "output_type": "stream",
     "text": [
      "935.06\n",
      "Average 93.506\n"
     ]
    }
   ],
   "source": [
    "# find the total of the number, find average of the number\n",
    "x = [0.577,1.618,2.718,3.147,6,36,37,100,200,548]\n",
    "count=0\n",
    "for i in x:\n",
    "    count+=i\n",
    "print(count)\n",
    "print('Average',count/len(x))"
   ]
  },
  {
   "cell_type": "code",
   "execution_count": 28,
   "id": "da9f37e5",
   "metadata": {},
   "outputs": [
    {
     "name": "stdout",
     "output_type": "stream",
     "text": [
      "Maximum no. 963\n",
      "Minimum no. 100.23\n",
      "Total sum is: 10036.23\n",
      "Average is: 716.8735714285714\n",
      "Median of: 852\n"
     ]
    }
   ],
   "source": [
    "# Find the max,min,total, average, median\n",
    "\n",
    "list1=[100.23,456,744,741,789,951,453,852,746,845,963,753,854,789]\n",
    "\n",
    "print('Maximum no.',max(list1))\n",
    "print('Minimum no.',min(list1))\n",
    "sum=0\n",
    "\n",
    "for i in list1:\n",
    "    sum+=i\n",
    "print('Total sum is:',sum)\n",
    "\n",
    "print('Average is:',sum/len(list1))\n",
    "\n",
    "m=len(list1)//2\n",
    "print('Median of:',list1[m])\n",
    "\n"
   ]
  },
  {
   "cell_type": "code",
   "execution_count": 2,
   "id": "4dcc6270",
   "metadata": {},
   "outputs": [
    {
     "name": "stdout",
     "output_type": "stream",
     "text": [
      "2\n",
      "5\n",
      "8\n",
      "11\n",
      "14\n",
      "17\n",
      "20\n",
      "23\n",
      "26\n",
      "29\n"
     ]
    }
   ],
   "source": [
    "# using for loop display the number series ,2,5,8,11,14,19 to 30\n",
    "\n",
    "\n",
    "for i in range(2,30,3):\n",
    "    print(i)"
   ]
  },
  {
   "cell_type": "code",
   "execution_count": 1,
   "id": "48929406",
   "metadata": {},
   "outputs": [],
   "source": [
    "# -10 to 10 with even number"
   ]
  },
  {
   "cell_type": "markdown",
   "id": "fb660884",
   "metadata": {},
   "source": [
    "# break in for loop"
   ]
  },
  {
   "cell_type": "code",
   "execution_count": 3,
   "id": "335b1ee3",
   "metadata": {},
   "outputs": [
    {
     "name": "stdout",
     "output_type": "stream",
     "text": [
      "1\n",
      "2\n",
      "3\n",
      "4\n",
      "5\n",
      "6\n",
      "7\n",
      "8\n",
      "9\n",
      "10\n"
     ]
    }
   ],
   "source": [
    "nlis=[1,2,3,4,5,6,7,8,9,10,11,12,13,14,15]\n",
    "\n",
    "\n",
    "for i in nlis:\n",
    "    if i==11:\n",
    "        break\n",
    "    print(i)"
   ]
  },
  {
   "cell_type": "markdown",
   "id": "aa976b68",
   "metadata": {},
   "source": [
    "# continue in for loop"
   ]
  },
  {
   "cell_type": "code",
   "execution_count": 5,
   "id": "7ace600d",
   "metadata": {},
   "outputs": [
    {
     "name": "stdout",
     "output_type": "stream",
     "text": [
      "1\n",
      "2\n",
      "3\n",
      "4\n",
      "5\n",
      "6\n",
      "7\n",
      "8\n",
      "9\n",
      "10\n",
      "11\n",
      "13\n",
      "14\n",
      "15\n"
     ]
    }
   ],
   "source": [
    "nlis=[1,2,3,4,5,6,7,8,9,10,11,12,13,14,15]\n",
    "\n",
    "for i in nlis:\n",
    "    if i==12:\n",
    "        continue\n",
    "    print(i)"
   ]
  },
  {
   "cell_type": "markdown",
   "id": "ba1d50f9",
   "metadata": {},
   "source": [
    "#  While loop\n",
    "\n",
    " * __The while loop exists as a tool for repeated execution based on a condition. The code block will keep being executed untill the given logical condition return a False boolean value.__"
   ]
  },
  {
   "cell_type": "code",
   "execution_count": 9,
   "id": "869d2c95",
   "metadata": {},
   "outputs": [
    {
     "name": "stdout",
     "output_type": "stream",
     "text": [
      "22\n",
      "23\n",
      "24\n",
      "25\n",
      "26\n",
      "27\n",
      "28\n",
      "29\n",
      "30\n",
      "31\n",
      "32\n",
      "33\n",
      "34\n",
      "35\n",
      "36\n",
      "37\n",
      "38\n",
      "39\n",
      "40\n",
      "41\n",
      "42\n",
      "43\n",
      "44\n",
      "45\n",
      "46\n",
      "47\n",
      "48\n",
      "49\n",
      "50\n"
     ]
    }
   ],
   "source": [
    "i=22\n",
    "\n",
    "while i<=50:\n",
    "    z=0\n",
    "    print(i)\n",
    "    i+=1"
   ]
  },
  {
   "cell_type": "code",
   "execution_count": 11,
   "id": "23c72a1f",
   "metadata": {},
   "outputs": [
    {
     "data": {
      "text/plain": [
       "0"
      ]
     },
     "execution_count": 11,
     "metadata": {},
     "output_type": "execute_result"
    }
   ],
   "source": [
    "z"
   ]
  },
  {
   "cell_type": "code",
   "execution_count": 12,
   "id": "7c949948",
   "metadata": {},
   "outputs": [
    {
     "name": "stdout",
     "output_type": "stream",
     "text": [
      "22\n",
      "21\n",
      "20\n",
      "19\n",
      "18\n",
      "17\n",
      "16\n",
      "15\n",
      "14\n",
      "13\n",
      "12\n",
      "11\n",
      "10\n",
      "9\n",
      "8\n",
      "7\n",
      "6\n",
      "5\n",
      "4\n",
      "3\n",
      "2\n",
      "1\n",
      "0\n",
      "-1\n",
      "-2\n",
      "-3\n",
      "-4\n",
      "-5\n",
      "-6\n",
      "-7\n",
      "-8\n",
      "-9\n",
      "-10\n",
      "-11\n",
      "-12\n",
      "-13\n",
      "-14\n",
      "-15\n",
      "-16\n",
      "-17\n"
     ]
    }
   ],
   "source": [
    "i=22\n",
    "\n",
    "while i>=-17:\n",
    "    print(i)\n",
    "    i-=1"
   ]
  },
  {
   "cell_type": "markdown",
   "id": "f5983776",
   "metadata": {},
   "source": [
    "# break in while loop"
   ]
  },
  {
   "cell_type": "code",
   "execution_count": 17,
   "id": "91cd683c",
   "metadata": {},
   "outputs": [
    {
     "name": "stdout",
     "output_type": "stream",
     "text": [
      "1\n",
      "2\n",
      "3\n",
      "4\n",
      "5\n"
     ]
    }
   ],
   "source": [
    "i=1\n",
    "while i<=10:\n",
    "    print(i)\n",
    "    i+=1\n",
    "    if i==6:\n",
    "        break\n",
    "    "
   ]
  },
  {
   "cell_type": "markdown",
   "id": "0cf87fa8",
   "metadata": {},
   "source": [
    "# continue in while loop"
   ]
  },
  {
   "cell_type": "code",
   "execution_count": 20,
   "id": "caa6b102",
   "metadata": {},
   "outputs": [
    {
     "name": "stdout",
     "output_type": "stream",
     "text": [
      "5\n",
      "6\n",
      "7\n",
      "8\n",
      "9\n",
      "10\n"
     ]
    }
   ],
   "source": [
    "i=5\n",
    "\n",
    "while i<=10:\n",
    "    \n",
    "    print(i)\n",
    "    i+=1\n",
    "    if i==7:\n",
    "        continue"
   ]
  },
  {
   "cell_type": "code",
   "execution_count": 22,
   "id": "9d3c9e2f",
   "metadata": {},
   "outputs": [
    {
     "name": "stdout",
     "output_type": "stream",
     "text": [
      "Enter any number:\n",
      "19\n",
      "19 X 1 = 19\n",
      "19 X 2 = 38\n",
      "19 X 3 = 57\n",
      "19 X 4 = 76\n",
      "19 X 5 = 95\n",
      "19 X 6 = 114\n",
      "19 X 7 = 133\n",
      "19 X 8 = 152\n",
      "19 X 9 = 171\n",
      "19 X 10 = 190\n"
     ]
    }
   ],
   "source": [
    "# Write a table using while loop from user input  ex: 1x1=1,1x2=2\n",
    "\n",
    "\n",
    "x=int(input('Enter any number:\\n'))\n",
    "\n",
    "i=1\n",
    "\n",
    "while i<=10:\n",
    "    print(x,'X',i,'=',x*i)\n",
    "    i+=1"
   ]
  },
  {
   "cell_type": "code",
   "execution_count": 23,
   "id": "b8e7ba96",
   "metadata": {},
   "outputs": [],
   "source": [
    "# Write a program to print even number 0 to 50 using for loop.\n",
    "# Write a program to calculate the sum of all numbers from 1 to 10 using loop."
   ]
  },
  {
   "cell_type": "code",
   "execution_count": 26,
   "id": "5aea0406",
   "metadata": {},
   "outputs": [
    {
     "name": "stdout",
     "output_type": "stream",
     "text": [
      "Enter any number:\n",
      "19\n",
      "19 X 1 = 19\n",
      "19 X 2 = 38\n",
      "19 X 3 = 57\n",
      "19 X 4 = 76\n",
      "19 X 5 = 95\n",
      "19 X 6 = 114\n",
      "19 X 7 = 133\n",
      "19 X 8 = 152\n",
      "19 X 9 = 171\n",
      "19 X 10 = 190\n",
      "These are printed table:\n"
     ]
    }
   ],
   "source": [
    "\n",
    "x=int(input('Enter any number:\\n'))\n",
    "\n",
    "i=1\n",
    "\n",
    "while i<=10:\n",
    "    print(x,'X',i,'=',x*i)\n",
    "    i+=1\n",
    "    \n",
    "    \n",
    "print('These are printed table:')"
   ]
  },
  {
   "cell_type": "markdown",
   "id": "ed273d09",
   "metadata": {},
   "source": [
    "# Practice Question(Type-3). (Loop)"
   ]
  },
  {
   "cell_type": "code",
   "execution_count": 1,
   "id": "05325fe3",
   "metadata": {},
   "outputs": [
    {
     "name": "stdout",
     "output_type": "stream",
     "text": [
      "2\n",
      "3\n",
      "5\n",
      "7\n",
      "11\n",
      "13\n",
      "17\n",
      "19\n",
      "23\n",
      "29\n",
      "31\n",
      "37\n",
      "41\n",
      "43\n",
      "47\n"
     ]
    }
   ],
   "source": [
    "for i in range(1,51):\n",
    "    if i==2 or i==3 or i==5 or i==7:\n",
    "        print(i)\n",
    "    elif i==1 or i%2==0 or i%3==0 or i%5==0 or i%7==0:\n",
    "        pass\n",
    "    else:\n",
    "        print(i)"
   ]
  },
  {
   "cell_type": "code",
   "execution_count": 4,
   "id": "dc6789f9",
   "metadata": {},
   "outputs": [
    {
     "name": "stdout",
     "output_type": "stream",
     "text": [
      "Enter the range of fibonacci series:10\n",
      "[0, 1, 1, 2, 3, 5, 8, 13, 21, 34, 55]\n"
     ]
    }
   ],
   "source": [
    "num=int(input('Enter the range of fibonacci series:'))\n",
    "\n",
    "n1=0\n",
    "n2=1\n",
    "series=0\n",
    "\n",
    "fibolist=[]\n",
    "\n",
    "for i in range(num+1):\n",
    "    fibolist.append(n1)\n",
    "    series=n1+n2\n",
    "    n1=n2\n",
    "    n2=series\n",
    "print(fibolist)"
   ]
  },
  {
   "cell_type": "code",
   "execution_count": 2,
   "id": "1e38b90e",
   "metadata": {},
   "outputs": [
    {
     "name": "stdout",
     "output_type": "stream",
     "text": [
      "Enter your sentence:The Quick brown fox jump over the lazy dog.\n",
      "Total words in Your sentence: 34\n"
     ]
    }
   ],
   "source": [
    "# Create a program that takes a sentence as an input and counts number of letter in your sentence.\n",
    "\n",
    "sen=input('Enter your sentence:')\n",
    "\n",
    "words=0\n",
    "\n",
    "for i in sen:\n",
    "    if i.isalpha()==True:\n",
    "        words+=1\n",
    "        \n",
    "    else:\n",
    "        pass\n",
    "print('Total words in Your sentence:',words)"
   ]
  },
  {
   "cell_type": "code",
   "execution_count": 3,
   "id": "37b21635",
   "metadata": {},
   "outputs": [],
   "source": [
    "# Calculate the sum of digit of a user given number."
   ]
  },
  {
   "cell_type": "code",
   "execution_count": 4,
   "id": "6c154874",
   "metadata": {},
   "outputs": [],
   "source": [
    "# Write a program to print sum of first 10 Natural numbers using while loop\n",
    "\n",
    "\n",
    "# Write a program to print sum of first 10 Even numbers."
   ]
  },
  {
   "cell_type": "code",
   "execution_count": 7,
   "id": "afdd0485",
   "metadata": {},
   "outputs": [
    {
     "name": "stdout",
     "output_type": "stream",
     "text": [
      "Enter any number:789566\n",
      "41\n"
     ]
    }
   ],
   "source": [
    "# Write a program to print sum of first 10 Natural numbers using while loop\n",
    "\n",
    "\n",
    "digit=int(input('Enter any number:'))\n",
    "\n",
    "sum1=0\n",
    "\n",
    "for i in str(digit):\n",
    "    sum1+=int(i)\n",
    "    \n",
    "    \n",
    "print(sum1)"
   ]
  },
  {
   "cell_type": "code",
   "execution_count": 11,
   "id": "08f837d9",
   "metadata": {},
   "outputs": [
    {
     "name": "stdout",
     "output_type": "stream",
     "text": [
      "Enter any number789\n",
      "24\n"
     ]
    }
   ],
   "source": [
    "digit1=int(input('Enter any number'))\n",
    "\n",
    "\n",
    "list1=[]\n",
    "\n",
    "for i in str(digit1):\n",
    "    list1.append(int(i))\n",
    "    \n",
    "print(sum(list1))"
   ]
  },
  {
   "cell_type": "code",
   "execution_count": null,
   "id": "4a67c41f",
   "metadata": {},
   "outputs": [],
   "source": []
  }
 ],
 "metadata": {
  "kernelspec": {
   "display_name": "Python 3 (ipykernel)",
   "language": "python",
   "name": "python3"
  },
  "language_info": {
   "codemirror_mode": {
    "name": "ipython",
    "version": 3
   },
   "file_extension": ".py",
   "mimetype": "text/x-python",
   "name": "python",
   "nbconvert_exporter": "python",
   "pygments_lexer": "ipython3",
   "version": "3.9.13"
  }
 },
 "nbformat": 4,
 "nbformat_minor": 5
}
