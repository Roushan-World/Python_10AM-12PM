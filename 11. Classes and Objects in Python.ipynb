{
 "cells": [
  {
   "cell_type": "markdown",
   "id": "9a0c9f52",
   "metadata": {},
   "source": [
    "# 12. Classes and Objects in Python\n",
    "\n",
    " * __Python is an object-oriented programming language.__\n",
    " * __Unlike procedure-oriented programming, where the main emphasis is on functions, object-oriented programming stressed on objects.__\n",
    " * __An object is simply a collection of data(variables) methods (functions) that act on those data.__\n",
    " * __Similarly, a class is a blueprint for that object.__\n",
    " * __Like function definitions begin with the def keyword in Python, class definitions begin with a class keyword.__\n",
    " * __The first string inside the class is called docstring and has a brief description of the class.__\n",
    " * __Although not mandatory, this is highly recommended.__"
   ]
  },
  {
   "cell_type": "markdown",
   "id": "e6438038",
   "metadata": {},
   "source": [
    "class student:                            # class variable\n",
    "    school_name= 'ABC School'\n",
    "    def __init__(self,name,age):        # constructor\n",
    "    # to initialize instance variables.\n",
    "    self.name=name\n",
    "    self.age=age\n",
    "    \n",
    "    @classmethod\n",
    "    def change_school(cls,name):\n",
    "        print(student.school_name)  # access the variable\n",
    "        \n",
    "        print(school.school_name= name   # modify class variables.\n",
    "        "
   ]
  },
  {
   "cell_type": "code",
   "execution_count": 3,
   "id": "0a34a7be",
   "metadata": {},
   "outputs": [
    {
     "name": "stdout",
     "output_type": "stream",
     "text": [
      "<class '__main__.Data'>\n"
     ]
    }
   ],
   "source": [
    "class Data:\n",
    "    num=3.14\n",
    "    x=25\n",
    "    \n",
    "print(Data)"
   ]
  },
  {
   "cell_type": "code",
   "execution_count": 5,
   "id": "156bfb3c",
   "metadata": {},
   "outputs": [
    {
     "data": {
      "text/plain": [
       "25"
      ]
     },
     "execution_count": 5,
     "metadata": {},
     "output_type": "execute_result"
    }
   ],
   "source": [
    "var=Data()\n",
    "var.num\n",
    "var.x"
   ]
  },
  {
   "cell_type": "code",
   "execution_count": 6,
   "id": "ef3bbbc1",
   "metadata": {},
   "outputs": [
    {
     "data": {
      "text/plain": [
       "25"
      ]
     },
     "execution_count": 6,
     "metadata": {},
     "output_type": "execute_result"
    }
   ],
   "source": [
    "Data.x"
   ]
  },
  {
   "cell_type": "markdown",
   "id": "a741e86f",
   "metadata": {},
   "source": [
    "# Function init()"
   ]
  },
  {
   "cell_type": "code",
   "execution_count": 12,
   "id": "7fb32552",
   "metadata": {},
   "outputs": [
    {
     "name": "stdout",
     "output_type": "stream",
     "text": [
      "Balaji\n",
      "40\n",
      "789456123\n",
      "balahi45@gmail.com\n"
     ]
    }
   ],
   "source": [
    "class Data:\n",
    "    def __init__ (self,name,age,contact,email):\n",
    "        self.name=name\n",
    "        self.age=age\n",
    "        self.contact=contact\n",
    "        self.email=email\n",
    "val=Data('Balaji','40','789456123','balahi45@gmail.com')\n",
    "print(val.name)\n",
    "print(val.age)\n",
    "print(val.contact)\n",
    "print(val.email)"
   ]
  },
  {
   "cell_type": "code",
   "execution_count": 14,
   "id": "e75ea09c",
   "metadata": {},
   "outputs": [
    {
     "name": "stdout",
     "output_type": "stream",
     "text": [
      "My name is Balaji\n",
      "My age is i.e 40\n",
      "My contact number is 789456123\n",
      "My email is balahi45@gmail.com\n"
     ]
    }
   ],
   "source": [
    "class Data:\n",
    "    def __init__ (self,name,age,contact,email):\n",
    "        self.name=name\n",
    "        self.age=age\n",
    "        self.contact=contact\n",
    "        self.email=email\n",
    "        \n",
    "    def details_person(self):\n",
    "        print(f'My name is {self.name}')\n",
    "        print(f'My age is i.e {self.age}')\n",
    "        print(f'My contact number is {self.contact}')\n",
    "        print(f'My email is {self.email}')\n",
    "val=Data('Balaji','40','789456123','balahi45@gmail.com')\n",
    "val.details_person()"
   ]
  },
  {
   "cell_type": "code",
   "execution_count": 16,
   "id": "2dd877ee",
   "metadata": {},
   "outputs": [
    {
     "name": "stdout",
     "output_type": "stream",
     "text": [
      "My name is Balaji\n",
      "My age is i.e 40\n",
      "My contact number is 789456123\n",
      "My email is balahi45@gmail.com\n",
      "My name is shyam\n",
      "My age is i.e 40\n",
      "My contact number is 456123\n",
      "My email is shyam@gmail.com\n"
     ]
    }
   ],
   "source": [
    "val.details_person()\n",
    "x=Data('shyam',40,'456123','shyam@gmail.com')\n",
    "x.details_person()"
   ]
  },
  {
   "cell_type": "code",
   "execution_count": 17,
   "id": "fd59649b",
   "metadata": {},
   "outputs": [
    {
     "name": "stdout",
     "output_type": "stream",
     "text": [
      "My name is Balaji\n",
      "My age is i.e 40\n",
      "My contact number is 789456123\n",
      "My email is balahi45@gmail.com\n"
     ]
    }
   ],
   "source": [
    "val.details_person()"
   ]
  },
  {
   "cell_type": "code",
   "execution_count": 18,
   "id": "1b75e43a",
   "metadata": {},
   "outputs": [
    {
     "name": "stdout",
     "output_type": "stream",
     "text": [
      "My name is shyam\n",
      "My age is i.e 40\n",
      "My contact number is 456123\n",
      "My email is shyam@gmail.com\n"
     ]
    }
   ],
   "source": [
    "x.details_person()"
   ]
  },
  {
   "cell_type": "code",
   "execution_count": null,
   "id": "29914c1f",
   "metadata": {},
   "outputs": [],
   "source": [
    "# Write a program to given the details of yours as parameter name, age, email, phone_no,address,course,degress)"
   ]
  }
 ],
 "metadata": {
  "kernelspec": {
   "display_name": "Python 3 (ipykernel)",
   "language": "python",
   "name": "python3"
  },
  "language_info": {
   "codemirror_mode": {
    "name": "ipython",
    "version": 3
   },
   "file_extension": ".py",
   "mimetype": "text/x-python",
   "name": "python",
   "nbconvert_exporter": "python",
   "pygments_lexer": "ipython3",
   "version": "3.9.13"
  }
 },
 "nbformat": 4,
 "nbformat_minor": 5
}
