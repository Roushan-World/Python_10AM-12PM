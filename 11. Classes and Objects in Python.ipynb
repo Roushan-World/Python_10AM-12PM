{
 "cells": [
  {
   "cell_type": "markdown",
   "id": "9a0c9f52",
   "metadata": {},
   "source": [
    "# 12. Classes and Objects in Python\n",
    "\n",
    " * __Python is an object-oriented programming language.__\n",
    " * __Unlike procedure-oriented programming, where the main emphasis is on functions, object-oriented programming stressed on objects.__\n",
    " * __An object is simply a collection of data(variables) methods (functions) that act on those data.__\n",
    " * __Similarly, a class is a blueprint for that object.__\n",
    " * __Like function definitions begin with the def keyword in Python, class definitions begin with a class keyword.__\n",
    " * __The first string inside the class is called docstring and has a brief description of the class.__\n",
    " * __Although not mandatory, this is highly recommended.__"
   ]
  },
  {
   "cell_type": "markdown",
   "id": "e6438038",
   "metadata": {},
   "source": [
    "class student:                            # class variable\n",
    "    school_name= 'ABC School'\n",
    "    def __init__(self,name,age):        # constructor\n",
    "    # to initialize instance variables.\n",
    "    self.name=name\n",
    "    self.age=age\n",
    "    \n",
    "    @classmethod\n",
    "    def change_school(cls,name):\n",
    "        print(student.school_name)  # access the variable\n",
    "        \n",
    "        print(school.school_name= name   # modify class variables.\n",
    "        "
   ]
  }
 ],
 "metadata": {
  "kernelspec": {
   "display_name": "Python 3 (ipykernel)",
   "language": "python",
   "name": "python3"
  },
  "language_info": {
   "codemirror_mode": {
    "name": "ipython",
    "version": 3
   },
   "file_extension": ".py",
   "mimetype": "text/x-python",
   "name": "python",
   "nbconvert_exporter": "python",
   "pygments_lexer": "ipython3",
   "version": "3.9.13"
  }
 },
 "nbformat": 4,
 "nbformat_minor": 5
}
