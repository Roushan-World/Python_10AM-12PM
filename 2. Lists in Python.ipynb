{
 "cells": [
  {
   "cell_type": "markdown",
   "id": "50b3a4c7",
   "metadata": {},
   "source": [
    "# 2. Lists in Python\n",
    "\n",
    "\n",
    " * __Lists are ordered.__\n",
    " * __Lists can contains any arbitrary objects.__\n",
    " * __List element can be accessed by the index.__\n",
    " * __Lists can be nested to arbitrary depth.__\n",
    " * __Lists are mutable.__\n",
    " * __Lists are dynamic.__"
   ]
  },
  {
   "cell_type": "code",
   "execution_count": 1,
   "id": "7a8d57f0",
   "metadata": {},
   "outputs": [
    {
     "data": {
      "text/plain": [
       "[3.14,\n",
       " 2023,\n",
       " True,\n",
       " False,\n",
       " ['Hello World', 3.14],\n",
       " ('Hello World', 6),\n",
       " {1, 2, 3},\n",
       " {'a': 3.14, 'b': 2024}]"
      ]
     },
     "execution_count": 1,
     "metadata": {},
     "output_type": "execute_result"
    }
   ],
   "source": [
    "x1=[3.14,2023,True,False,['Hello World',3.14],('Hello World',6),{1,2,3},{'a':3.14,'b':2024}]\n",
    "x1"
   ]
  },
  {
   "cell_type": "code",
   "execution_count": 2,
   "id": "0331fa71",
   "metadata": {},
   "outputs": [
    {
     "data": {
      "text/plain": [
       "list"
      ]
     },
     "execution_count": 2,
     "metadata": {},
     "output_type": "execute_result"
    }
   ],
   "source": [
    "type(x1)"
   ]
  },
  {
   "cell_type": "code",
   "execution_count": 7,
   "id": "e14eedfb",
   "metadata": {},
   "outputs": [
    {
     "name": "stdout",
     "output_type": "stream",
     "text": [
      "3.14\n",
      "2023\n",
      "True\n",
      "False\n",
      "['Hello World', 3.14]\n",
      "('Hello World', 6)\n",
      "{1, 2, 3}\n",
      "{'a': 3.14, 'b': 2024}\n"
     ]
    }
   ],
   "source": [
    "# print by index\n",
    "print(x1[0])\n",
    "print(x1[1])\n",
    "print(x1[2])\n",
    "print(x1[3])\n",
    "print(x1[4])\n",
    "print(x1[5])\n",
    "print(x1[6])\n",
    "print(x1[7])"
   ]
  },
  {
   "cell_type": "code",
   "execution_count": 14,
   "id": "519bea97",
   "metadata": {},
   "outputs": [
    {
     "name": "stdout",
     "output_type": "stream",
     "text": [
      "3.14\n",
      "<class 'float'>\n",
      "2023\n",
      "<class 'int'>\n",
      "True\n",
      "<class 'bool'>\n",
      "False\n",
      "<class 'bool'>\n",
      "['Hello World', 3.14]\n",
      "<class 'list'>\n",
      "('Hello World', 6)\n",
      "<class 'tuple'>\n",
      "{1, 2, 3}\n",
      "<class 'set'>\n",
      "{'a': 3.14, 'b': 2024}\n",
      "<class 'dict'>\n"
     ]
    }
   ],
   "source": [
    "# print by index and type\n",
    "print(x1[0])\n",
    "print(type(x1[0]))\n",
    "print(x1[1])\n",
    "print(type(x1[1]))\n",
    "print(x1[2])\n",
    "print(type(x1[2]))\n",
    "print(x1[3])\n",
    "print(type(x1[3]))\n",
    "print(x1[4])\n",
    "print(type(x1[4]))\n",
    "print(x1[5])\n",
    "print(type(x1[5]))\n",
    "print(x1[6])\n",
    "print(type(x1[6]))\n",
    "print(x1[7])\n",
    "print(type(x1[7]))"
   ]
  },
  {
   "cell_type": "code",
   "execution_count": 17,
   "id": "861c73cd",
   "metadata": {},
   "outputs": [
    {
     "name": "stdout",
     "output_type": "stream",
     "text": [
      "Hello World\n",
      "3.14\n"
     ]
    }
   ],
   "source": [
    "print(x1[4][0])\n",
    "print(x1[4][1])"
   ]
  },
  {
   "cell_type": "code",
   "execution_count": null,
   "id": "3ee83df7",
   "metadata": {},
   "outputs": [],
   "source": []
  }
 ],
 "metadata": {
  "kernelspec": {
   "display_name": "Python 3 (ipykernel)",
   "language": "python",
   "name": "python3"
  },
  "language_info": {
   "codemirror_mode": {
    "name": "ipython",
    "version": 3
   },
   "file_extension": ".py",
   "mimetype": "text/x-python",
   "name": "python",
   "nbconvert_exporter": "python",
   "pygments_lexer": "ipython3",
   "version": "3.9.13"
  }
 },
 "nbformat": 4,
 "nbformat_minor": 5
}
