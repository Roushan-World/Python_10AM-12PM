{
 "cells": [
  {
   "cell_type": "markdown",
   "id": "50b3a4c7",
   "metadata": {},
   "source": [
    "# 2. Lists in Python\n",
    "\n",
    "\n",
    " * __Lists are ordered.__\n",
    " * __Lists can contains any arbitrary objects.__\n",
    " * __List element can be accessed by the index.__\n",
    " * __Lists can be nested to arbitrary depth.__\n",
    " * __Lists are mutable.__\n",
    " * __Lists are dynamic.__"
   ]
  },
  {
   "cell_type": "code",
   "execution_count": 1,
   "id": "7a8d57f0",
   "metadata": {},
   "outputs": [
    {
     "data": {
      "text/plain": [
       "[3.14,\n",
       " 2023,\n",
       " True,\n",
       " False,\n",
       " ['Hello World', 3.14],\n",
       " ('Hello World', 6),\n",
       " {1, 2, 3},\n",
       " {'a': 3.14, 'b': 2024}]"
      ]
     },
     "execution_count": 1,
     "metadata": {},
     "output_type": "execute_result"
    }
   ],
   "source": [
    "x1=[3.14,2023,True,False,['Hello World',3.14],('Hello World',6),{1,2,3},{'a':3.14,'b':2024}]\n",
    "x1"
   ]
  },
  {
   "cell_type": "code",
   "execution_count": 2,
   "id": "0331fa71",
   "metadata": {},
   "outputs": [
    {
     "data": {
      "text/plain": [
       "list"
      ]
     },
     "execution_count": 2,
     "metadata": {},
     "output_type": "execute_result"
    }
   ],
   "source": [
    "type(x1)"
   ]
  },
  {
   "cell_type": "code",
   "execution_count": 7,
   "id": "e14eedfb",
   "metadata": {},
   "outputs": [
    {
     "name": "stdout",
     "output_type": "stream",
     "text": [
      "3.14\n",
      "2023\n",
      "True\n",
      "False\n",
      "['Hello World', 3.14]\n",
      "('Hello World', 6)\n",
      "{1, 2, 3}\n",
      "{'a': 3.14, 'b': 2024}\n"
     ]
    }
   ],
   "source": [
    "# print by index\n",
    "print(x1[0])\n",
    "print(x1[1])\n",
    "print(x1[2])\n",
    "print(x1[3])\n",
    "print(x1[4])\n",
    "print(x1[5])\n",
    "print(x1[6])\n",
    "print(x1[7])"
   ]
  },
  {
   "cell_type": "code",
   "execution_count": 14,
   "id": "519bea97",
   "metadata": {},
   "outputs": [
    {
     "name": "stdout",
     "output_type": "stream",
     "text": [
      "3.14\n",
      "<class 'float'>\n",
      "2023\n",
      "<class 'int'>\n",
      "True\n",
      "<class 'bool'>\n",
      "False\n",
      "<class 'bool'>\n",
      "['Hello World', 3.14]\n",
      "<class 'list'>\n",
      "('Hello World', 6)\n",
      "<class 'tuple'>\n",
      "{1, 2, 3}\n",
      "<class 'set'>\n",
      "{'a': 3.14, 'b': 2024}\n",
      "<class 'dict'>\n"
     ]
    }
   ],
   "source": [
    "# print by index and type\n",
    "print(x1[0])\n",
    "print(type(x1[0]))\n",
    "print(x1[1])\n",
    "print(type(x1[1]))\n",
    "print(x1[2])\n",
    "print(type(x1[2]))\n",
    "print(x1[3])\n",
    "print(type(x1[3]))\n",
    "print(x1[4])\n",
    "print(type(x1[4]))\n",
    "print(x1[5])\n",
    "print(type(x1[5]))\n",
    "print(x1[6])\n",
    "print(type(x1[6]))\n",
    "print(x1[7])\n",
    "print(type(x1[7]))"
   ]
  },
  {
   "cell_type": "code",
   "execution_count": 17,
   "id": "861c73cd",
   "metadata": {},
   "outputs": [
    {
     "name": "stdout",
     "output_type": "stream",
     "text": [
      "Hello World\n",
      "3.14\n"
     ]
    }
   ],
   "source": [
    "print(x1[4][0])\n",
    "print(x1[4][1])"
   ]
  },
  {
   "cell_type": "code",
   "execution_count": 7,
   "id": "3ee83df7",
   "metadata": {},
   "outputs": [
    {
     "data": {
      "text/plain": [
       "[3.14,\n",
       " 2023,\n",
       " True,\n",
       " False,\n",
       " ['Hello World', 3.14],\n",
       " ('Hello World', 6),\n",
       " {1, 2, 3, 4, 5},\n",
       " {'a': 3.14, 'b': 2024}]"
      ]
     },
     "execution_count": 7,
     "metadata": {},
     "output_type": "execute_result"
    }
   ],
   "source": [
    "x1=[3.14,2023,True,False,['Hello World',3.14],('Hello World',6),{1,2,3,3,3,4,5},{'a':3.14,'b':2024}]\n",
    "x1"
   ]
  },
  {
   "cell_type": "code",
   "execution_count": 6,
   "id": "37296ba9",
   "metadata": {},
   "outputs": [
    {
     "name": "stdout",
     "output_type": "stream",
     "text": [
      "2024\n"
     ]
    }
   ],
   "source": [
    "print(x1[7]['b'])"
   ]
  },
  {
   "cell_type": "markdown",
   "id": "e6269b9b",
   "metadata": {},
   "source": [
    "# List Operations"
   ]
  },
  {
   "cell_type": "code",
   "execution_count": 15,
   "id": "2eecbae2",
   "metadata": {},
   "outputs": [
    {
     "name": "stdout",
     "output_type": "stream",
     "text": [
      "[10, 20, 30, 40, 100]\n",
      "[10, 20, 30, 40, 100, 50, 60, 70]\n",
      "[200, 10, 20, 30, 40, 500, 100, 50, 60, 70]\n"
     ]
    }
   ],
   "source": [
    "x2=[10,20,30]\n",
    "\n",
    "# append\n",
    "\n",
    "x2.append(40)  # append takes exactly one arguments at a time.\n",
    "x2.append(100)\n",
    "print(x2)\n",
    "\n",
    "# extend\n",
    "\n",
    "x2.extend([50,60,70])  # it takes multiple element in list to extend the list.\n",
    "print(x2)\n",
    "\n",
    "\n",
    "# insert\n",
    "x2.insert(0,200)\n",
    "x2.insert(5,500)\n",
    "print(x2)"
   ]
  },
  {
   "cell_type": "code",
   "execution_count": 17,
   "id": "5b883517",
   "metadata": {},
   "outputs": [
    {
     "data": {
      "text/plain": [
       "[200, 10, 20, 30, 40, 500, 100, 50, 60, 70, 500]"
      ]
     },
     "execution_count": 17,
     "metadata": {},
     "output_type": "execute_result"
    }
   ],
   "source": [
    "x2.insert(20,500)\n",
    "x2"
   ]
  },
  {
   "cell_type": "code",
   "execution_count": 18,
   "id": "847500f6",
   "metadata": {},
   "outputs": [
    {
     "data": {
      "text/plain": [
       "[200, 10, 20, 30, 40, 500, 100, 50, 60, 70, 500]"
      ]
     },
     "execution_count": 18,
     "metadata": {},
     "output_type": "execute_result"
    }
   ],
   "source": [
    "x2"
   ]
  },
  {
   "cell_type": "code",
   "execution_count": 19,
   "id": "fb7a69d7",
   "metadata": {},
   "outputs": [
    {
     "name": "stdout",
     "output_type": "stream",
     "text": [
      "[200, 10, 20, 30, 40, 500, 100, 50, 60, 70]\n"
     ]
    }
   ],
   "source": [
    "x2.pop()\n",
    "print(x2)"
   ]
  },
  {
   "cell_type": "code",
   "execution_count": 21,
   "id": "e08462b8",
   "metadata": {},
   "outputs": [
    {
     "name": "stdout",
     "output_type": "stream",
     "text": [
      "[200, 10, 20, 30, 40, 100, 50, 60, 70]\n"
     ]
    }
   ],
   "source": [
    "x2.pop(5)\n",
    "print(x2)"
   ]
  },
  {
   "cell_type": "code",
   "execution_count": 24,
   "id": "a60bf0de",
   "metadata": {},
   "outputs": [
    {
     "data": {
      "text/plain": [
       "[200, 10, 20, 30, 40, 100]"
      ]
     },
     "execution_count": 24,
     "metadata": {},
     "output_type": "execute_result"
    }
   ],
   "source": [
    "x2.pop()\n",
    "x2"
   ]
  },
  {
   "cell_type": "code",
   "execution_count": 25,
   "id": "a373d4c6",
   "metadata": {},
   "outputs": [
    {
     "data": {
      "text/plain": [
       "[200, 10, 20, 30, 40, 100]"
      ]
     },
     "execution_count": 25,
     "metadata": {},
     "output_type": "execute_result"
    }
   ],
   "source": [
    "x2"
   ]
  },
  {
   "cell_type": "code",
   "execution_count": 26,
   "id": "f463923c",
   "metadata": {},
   "outputs": [],
   "source": [
    "x2.sort()"
   ]
  },
  {
   "cell_type": "code",
   "execution_count": 27,
   "id": "dab97369",
   "metadata": {},
   "outputs": [
    {
     "data": {
      "text/plain": [
       "[10, 20, 30, 40, 100, 200]"
      ]
     },
     "execution_count": 27,
     "metadata": {},
     "output_type": "execute_result"
    }
   ],
   "source": [
    "x2"
   ]
  },
  {
   "cell_type": "code",
   "execution_count": 28,
   "id": "8f85b702",
   "metadata": {},
   "outputs": [],
   "source": [
    "x2.reverse()"
   ]
  },
  {
   "cell_type": "code",
   "execution_count": 29,
   "id": "713327a1",
   "metadata": {},
   "outputs": [
    {
     "data": {
      "text/plain": [
       "[200, 100, 40, 30, 20, 10]"
      ]
     },
     "execution_count": 29,
     "metadata": {},
     "output_type": "execute_result"
    }
   ],
   "source": [
    "x2"
   ]
  },
  {
   "cell_type": "code",
   "execution_count": null,
   "id": "891b9619",
   "metadata": {},
   "outputs": [],
   "source": []
  }
 ],
 "metadata": {
  "kernelspec": {
   "display_name": "Python 3 (ipykernel)",
   "language": "python",
   "name": "python3"
  },
  "language_info": {
   "codemirror_mode": {
    "name": "ipython",
    "version": 3
   },
   "file_extension": ".py",
   "mimetype": "text/x-python",
   "name": "python",
   "nbconvert_exporter": "python",
   "pygments_lexer": "ipython3",
   "version": "3.9.13"
  }
 },
 "nbformat": 4,
 "nbformat_minor": 5
}
