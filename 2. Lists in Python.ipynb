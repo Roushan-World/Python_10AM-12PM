{
 "cells": [
  {
   "cell_type": "markdown",
   "id": "50b3a4c7",
   "metadata": {},
   "source": [
    "# 2. Lists in Python\n",
    "\n",
    "\n",
    " * __Lists are ordered.__\n",
    " * __Lists can contains any arbitrary objects.__\n",
    " * __List element can be accessed by the index.__\n",
    " * __Lists can be nested to arbitrary depth.__\n",
    " * __Lists are mutable.__\n",
    " * __Lists are dynamic.__"
   ]
  },
  {
   "cell_type": "code",
   "execution_count": 1,
   "id": "7a8d57f0",
   "metadata": {},
   "outputs": [
    {
     "data": {
      "text/plain": [
       "[3.14,\n",
       " 2023,\n",
       " True,\n",
       " False,\n",
       " ['Hello World', 3.14],\n",
       " ('Hello World', 6),\n",
       " {1, 2, 3},\n",
       " {'a': 3.14, 'b': 2024}]"
      ]
     },
     "execution_count": 1,
     "metadata": {},
     "output_type": "execute_result"
    }
   ],
   "source": [
    "x1=[3.14,2023,True,False,['Hello World',3.14],('Hello World',6),{1,2,3},{'a':3.14,'b':2024}]\n",
    "x1"
   ]
  },
  {
   "cell_type": "code",
   "execution_count": 2,
   "id": "0331fa71",
   "metadata": {},
   "outputs": [
    {
     "data": {
      "text/plain": [
       "list"
      ]
     },
     "execution_count": 2,
     "metadata": {},
     "output_type": "execute_result"
    }
   ],
   "source": [
    "type(x1)"
   ]
  },
  {
   "cell_type": "code",
   "execution_count": 7,
   "id": "e14eedfb",
   "metadata": {},
   "outputs": [
    {
     "name": "stdout",
     "output_type": "stream",
     "text": [
      "3.14\n",
      "2023\n",
      "True\n",
      "False\n",
      "['Hello World', 3.14]\n",
      "('Hello World', 6)\n",
      "{1, 2, 3}\n",
      "{'a': 3.14, 'b': 2024}\n"
     ]
    }
   ],
   "source": [
    "# print by index\n",
    "print(x1[0])\n",
    "print(x1[1])\n",
    "print(x1[2])\n",
    "print(x1[3])\n",
    "print(x1[4])\n",
    "print(x1[5])\n",
    "print(x1[6])\n",
    "print(x1[7])"
   ]
  },
  {
   "cell_type": "code",
   "execution_count": 14,
   "id": "519bea97",
   "metadata": {},
   "outputs": [
    {
     "name": "stdout",
     "output_type": "stream",
     "text": [
      "3.14\n",
      "<class 'float'>\n",
      "2023\n",
      "<class 'int'>\n",
      "True\n",
      "<class 'bool'>\n",
      "False\n",
      "<class 'bool'>\n",
      "['Hello World', 3.14]\n",
      "<class 'list'>\n",
      "('Hello World', 6)\n",
      "<class 'tuple'>\n",
      "{1, 2, 3}\n",
      "<class 'set'>\n",
      "{'a': 3.14, 'b': 2024}\n",
      "<class 'dict'>\n"
     ]
    }
   ],
   "source": [
    "# print by index and type\n",
    "print(x1[0])\n",
    "print(type(x1[0]))\n",
    "print(x1[1])\n",
    "print(type(x1[1]))\n",
    "print(x1[2])\n",
    "print(type(x1[2]))\n",
    "print(x1[3])\n",
    "print(type(x1[3]))\n",
    "print(x1[4])\n",
    "print(type(x1[4]))\n",
    "print(x1[5])\n",
    "print(type(x1[5]))\n",
    "print(x1[6])\n",
    "print(type(x1[6]))\n",
    "print(x1[7])\n",
    "print(type(x1[7]))"
   ]
  },
  {
   "cell_type": "code",
   "execution_count": 17,
   "id": "861c73cd",
   "metadata": {},
   "outputs": [
    {
     "name": "stdout",
     "output_type": "stream",
     "text": [
      "Hello World\n",
      "3.14\n"
     ]
    }
   ],
   "source": [
    "print(x1[4][0])\n",
    "print(x1[4][1])"
   ]
  },
  {
   "cell_type": "code",
   "execution_count": 7,
   "id": "3ee83df7",
   "metadata": {},
   "outputs": [
    {
     "data": {
      "text/plain": [
       "[3.14,\n",
       " 2023,\n",
       " True,\n",
       " False,\n",
       " ['Hello World', 3.14],\n",
       " ('Hello World', 6),\n",
       " {1, 2, 3, 4, 5},\n",
       " {'a': 3.14, 'b': 2024}]"
      ]
     },
     "execution_count": 7,
     "metadata": {},
     "output_type": "execute_result"
    }
   ],
   "source": [
    "x1=[3.14,2023,True,False,['Hello World',3.14],('Hello World',6),{1,2,3,3,3,4,5},{'a':3.14,'b':2024}]\n",
    "x1"
   ]
  },
  {
   "cell_type": "code",
   "execution_count": 6,
   "id": "37296ba9",
   "metadata": {},
   "outputs": [
    {
     "name": "stdout",
     "output_type": "stream",
     "text": [
      "2024\n"
     ]
    }
   ],
   "source": [
    "print(x1[7]['b'])"
   ]
  },
  {
   "cell_type": "markdown",
   "id": "e6269b9b",
   "metadata": {},
   "source": [
    "# List Operations"
   ]
  },
  {
   "cell_type": "code",
   "execution_count": 15,
   "id": "2eecbae2",
   "metadata": {},
   "outputs": [
    {
     "name": "stdout",
     "output_type": "stream",
     "text": [
      "[10, 20, 30, 40, 100]\n",
      "[10, 20, 30, 40, 100, 50, 60, 70]\n",
      "[200, 10, 20, 30, 40, 500, 100, 50, 60, 70]\n"
     ]
    }
   ],
   "source": [
    "x2=[10,20,30]\n",
    "\n",
    "# append\n",
    "\n",
    "x2.append(40)  # append takes exactly one arguments at a time.\n",
    "x2.append(100)\n",
    "print(x2)\n",
    "\n",
    "# extend\n",
    "\n",
    "x2.extend([50,60,70])  # it takes multiple element in list to extend the list.\n",
    "print(x2)\n",
    "\n",
    "\n",
    "# insert\n",
    "x2.insert(0,200)\n",
    "x2.insert(5,500)\n",
    "print(x2)"
   ]
  },
  {
   "cell_type": "code",
   "execution_count": 17,
   "id": "5b883517",
   "metadata": {},
   "outputs": [
    {
     "data": {
      "text/plain": [
       "[200, 10, 20, 30, 40, 500, 100, 50, 60, 70, 500]"
      ]
     },
     "execution_count": 17,
     "metadata": {},
     "output_type": "execute_result"
    }
   ],
   "source": [
    "x2.insert(20,500)\n",
    "x2"
   ]
  },
  {
   "cell_type": "code",
   "execution_count": 18,
   "id": "847500f6",
   "metadata": {},
   "outputs": [
    {
     "data": {
      "text/plain": [
       "[200, 10, 20, 30, 40, 500, 100, 50, 60, 70, 500]"
      ]
     },
     "execution_count": 18,
     "metadata": {},
     "output_type": "execute_result"
    }
   ],
   "source": [
    "x2"
   ]
  },
  {
   "cell_type": "code",
   "execution_count": 19,
   "id": "fb7a69d7",
   "metadata": {},
   "outputs": [
    {
     "name": "stdout",
     "output_type": "stream",
     "text": [
      "[200, 10, 20, 30, 40, 500, 100, 50, 60, 70]\n"
     ]
    }
   ],
   "source": [
    "x2.pop()\n",
    "print(x2)"
   ]
  },
  {
   "cell_type": "code",
   "execution_count": 21,
   "id": "e08462b8",
   "metadata": {},
   "outputs": [
    {
     "name": "stdout",
     "output_type": "stream",
     "text": [
      "[200, 10, 20, 30, 40, 100, 50, 60, 70]\n"
     ]
    }
   ],
   "source": [
    "x2.pop(5)\n",
    "print(x2)"
   ]
  },
  {
   "cell_type": "code",
   "execution_count": 24,
   "id": "a60bf0de",
   "metadata": {},
   "outputs": [
    {
     "data": {
      "text/plain": [
       "[200, 10, 20, 30, 40, 100]"
      ]
     },
     "execution_count": 24,
     "metadata": {},
     "output_type": "execute_result"
    }
   ],
   "source": [
    "x2.pop()\n",
    "x2"
   ]
  },
  {
   "cell_type": "code",
   "execution_count": 25,
   "id": "a373d4c6",
   "metadata": {},
   "outputs": [
    {
     "data": {
      "text/plain": [
       "[200, 10, 20, 30, 40, 100]"
      ]
     },
     "execution_count": 25,
     "metadata": {},
     "output_type": "execute_result"
    }
   ],
   "source": [
    "x2"
   ]
  },
  {
   "cell_type": "code",
   "execution_count": 26,
   "id": "f463923c",
   "metadata": {},
   "outputs": [],
   "source": [
    "x2.sort()"
   ]
  },
  {
   "cell_type": "code",
   "execution_count": 27,
   "id": "dab97369",
   "metadata": {},
   "outputs": [
    {
     "data": {
      "text/plain": [
       "[10, 20, 30, 40, 100, 200]"
      ]
     },
     "execution_count": 27,
     "metadata": {},
     "output_type": "execute_result"
    }
   ],
   "source": [
    "x2"
   ]
  },
  {
   "cell_type": "code",
   "execution_count": 28,
   "id": "8f85b702",
   "metadata": {},
   "outputs": [],
   "source": [
    "x2.reverse()"
   ]
  },
  {
   "cell_type": "code",
   "execution_count": 29,
   "id": "713327a1",
   "metadata": {},
   "outputs": [
    {
     "data": {
      "text/plain": [
       "[200, 100, 40, 30, 20, 10]"
      ]
     },
     "execution_count": 29,
     "metadata": {},
     "output_type": "execute_result"
    }
   ],
   "source": [
    "x2"
   ]
  },
  {
   "cell_type": "markdown",
   "id": "b73208e7",
   "metadata": {},
   "source": [
    "# Copy the list"
   ]
  },
  {
   "cell_type": "code",
   "execution_count": 1,
   "id": "891b9619",
   "metadata": {},
   "outputs": [],
   "source": [
    "x2=['Python','Hello World',3.147,2.718,100]\n"
   ]
  },
  {
   "cell_type": "code",
   "execution_count": 2,
   "id": "4e6ce73c",
   "metadata": {},
   "outputs": [
    {
     "data": {
      "text/plain": [
       "['Python', 'Hello World', 3.147, 2.718, 100]"
      ]
     },
     "execution_count": 2,
     "metadata": {},
     "output_type": "execute_result"
    }
   ],
   "source": [
    "x2"
   ]
  },
  {
   "cell_type": "code",
   "execution_count": 7,
   "id": "6b0afefc",
   "metadata": {},
   "outputs": [
    {
     "name": "stdout",
     "output_type": "stream",
     "text": [
      "['Python', 'Hello World', 3.147, 2.718, 100, 'Suhana']\n",
      "['Python', 'Hello World', 3.147, 2.718, 100, 'Suhana']\n",
      "['Python', 'Hello World', 3.147, 2.718, 100, 'Suhana', 'Suhana']\n",
      "['Python', 'Hello World', 3.147, 2.718, 100, 'Suhana', 'Suhana']\n"
     ]
    }
   ],
   "source": [
    "print(x2)\n",
    "\n",
    "x3=x2\n",
    "print(x3)\n",
    "\n",
    "x2.append('Suhana')\n",
    "print(x2)\n",
    "print(x3)\n"
   ]
  },
  {
   "cell_type": "code",
   "execution_count": 8,
   "id": "1c97cf0f",
   "metadata": {},
   "outputs": [
    {
     "name": "stdout",
     "output_type": "stream",
     "text": [
      "['Python', 'Hello World', 3.147, 2.718, 100, 'Suhana', 'Suhana']\n"
     ]
    }
   ],
   "source": [
    "print(x3)"
   ]
  },
  {
   "cell_type": "code",
   "execution_count": 13,
   "id": "1c8dbce4",
   "metadata": {},
   "outputs": [
    {
     "name": "stdout",
     "output_type": "stream",
     "text": [
      "[10, 20, 30]\n",
      "[10, 20, 30]\n",
      "[10, 20, 30, 'Suhana']\n",
      "[10, 20, 30]\n"
     ]
    }
   ],
   "source": [
    "x4=[10,20,30]\n",
    "\n",
    "print(x4)\n",
    "\n",
    "x5=x4.copy()\n",
    "\n",
    "print(x5)\n",
    "\n",
    "x4.append('Suhana')\n",
    "print(x4)\n",
    "\n",
    "print(x5)"
   ]
  },
  {
   "cell_type": "code",
   "execution_count": 14,
   "id": "0c468f17",
   "metadata": {},
   "outputs": [
    {
     "name": "stdout",
     "output_type": "stream",
     "text": [
      "[10, 20, 30]\n"
     ]
    }
   ],
   "source": [
    "print(x5)"
   ]
  },
  {
   "cell_type": "code",
   "execution_count": 15,
   "id": "bc7b704e",
   "metadata": {},
   "outputs": [
    {
     "name": "stdout",
     "output_type": "stream",
     "text": [
      "[10, 20, 30, 'Suhana']\n"
     ]
    }
   ],
   "source": [
    "print(x4)"
   ]
  },
  {
   "cell_type": "markdown",
   "id": "7e02e6f5",
   "metadata": {},
   "source": [
    "# Input() function\n",
    "\n",
    " * __input() function in Python provides a user of a program that supply inputs to the running programs.__"
   ]
  },
  {
   "cell_type": "code",
   "execution_count": 16,
   "id": "f423ac51",
   "metadata": {},
   "outputs": [
    {
     "name": "stdout",
     "output_type": "stream",
     "text": [
      "Enter your nameBalaji\n",
      "Balaji\n",
      "<class 'str'>\n"
     ]
    }
   ],
   "source": [
    "x1=input('Enter your name')\n",
    "print(x1)\n",
    "print(type(x1))"
   ]
  },
  {
   "cell_type": "code",
   "execution_count": 17,
   "id": "f5470fbc",
   "metadata": {},
   "outputs": [
    {
     "name": "stdout",
     "output_type": "stream",
     "text": [
      "Enter your number1213\n",
      "1213\n",
      "<class 'int'>\n"
     ]
    }
   ],
   "source": [
    "x2=int(input('Enter your number'))\n",
    "print(x2)\n",
    "print(type(x2))"
   ]
  },
  {
   "cell_type": "code",
   "execution_count": 18,
   "id": "e680fac6",
   "metadata": {},
   "outputs": [
    {
     "name": "stdout",
     "output_type": "stream",
     "text": [
      "30+30\n"
     ]
    }
   ],
   "source": [
    "print('30+30')"
   ]
  },
  {
   "cell_type": "code",
   "execution_count": 26,
   "id": "7377c312",
   "metadata": {},
   "outputs": [
    {
     "name": "stdout",
     "output_type": "stream",
     "text": [
      "30+30\n",
      "<class 'str'>\n",
      "60\n",
      "<class 'int'>\n"
     ]
    }
   ],
   "source": [
    "x='30+30'\n",
    "print(x)\n",
    "\n",
    "print(type(x))\n",
    "y=eval(x)\n",
    "print(y)\n",
    "print(type(y))"
   ]
  },
  {
   "cell_type": "markdown",
   "id": "cdd0507d",
   "metadata": {},
   "source": [
    "# format function"
   ]
  },
  {
   "cell_type": "code",
   "execution_count": 33,
   "id": "b65a74ca",
   "metadata": {},
   "outputs": [
    {
     "name": "stdout",
     "output_type": "stream",
     "text": [
      "Enter any number250\n",
      "Enter second number250\n",
      "The addition of two x and y number 500\n",
      "The addition of two numbers 250 and 250 is: 500\n"
     ]
    }
   ],
   "source": [
    "x=int(input('Enter any number'))\n",
    "y=int(input('Enter second number'))\n",
    "\n",
    "z=x+y\n",
    "print('The addition of two x and y number',z)\n",
    "print(f'The addition of two numbers {x} and {y} is: {z}') # f-string function"
   ]
  },
  {
   "cell_type": "code",
   "execution_count": 37,
   "id": "7bbb699e",
   "metadata": {},
   "outputs": [
    {
     "name": "stdout",
     "output_type": "stream",
     "text": [
      "Enter any number200\n",
      "Enter second number300\n",
      "The addition of two numebr 200 and 300 is 500\n"
     ]
    }
   ],
   "source": [
    "x1=int(input('Enter any number'))\n",
    "x2=int(input('Enter second number'))\n",
    "z1=x1+x2\n",
    "\n",
    "print('The addition of two numebr {} and {} is {}'.format(x1,x2,z1)) # .format function."
   ]
  },
  {
   "cell_type": "code",
   "execution_count": null,
   "id": "7aeb883c",
   "metadata": {},
   "outputs": [],
   "source": []
  }
 ],
 "metadata": {
  "kernelspec": {
   "display_name": "Python 3 (ipykernel)",
   "language": "python",
   "name": "python3"
  },
  "language_info": {
   "codemirror_mode": {
    "name": "ipython",
    "version": 3
   },
   "file_extension": ".py",
   "mimetype": "text/x-python",
   "name": "python",
   "nbconvert_exporter": "python",
   "pygments_lexer": "ipython3",
   "version": "3.9.13"
  }
 },
 "nbformat": 4,
 "nbformat_minor": 5
}
