{
 "cells": [
  {
   "cell_type": "markdown",
   "id": "a856fe68",
   "metadata": {},
   "source": [
    "# 5. Sets in Python\n",
    "\n",
    " * __Sets is 4-built in data type in Python used to store collection of data including list, tuple and Dictionary.__\n",
    " \n",
    " * __Sets elements are unordered, but you can add or remove an items in the set.__\n",
    " \n",
    " * __Set element are unique. Duplicate values are not allowed in the set.__\n",
    " \n",
    " * __A set itself may be modified, but the element contained in the set must be of an immutable type.__\n",
    " \n",
    " * __Sets are used to store multiple item in a single variable.__\n",
    " * __You can denote a pair of curly brackets.{}__"
   ]
  },
  {
   "cell_type": "code",
   "execution_count": 1,
   "id": "9404ae61",
   "metadata": {},
   "outputs": [
    {
     "name": "stdout",
     "output_type": "stream",
     "text": [
      "['Hello World', 3.147, 2.718, 3.147, 2.718, True, False, True, False]\n",
      "{False, True, 2.718, 3.147, 'Hello World'}\n"
     ]
    }
   ],
   "source": [
    "x1=['Hello World',3.147,2.718,3.147,2.718,True,False,True,False]\n",
    "print(x1)\n",
    "x2=set(x1)\n",
    "print(x2)"
   ]
  },
  {
   "cell_type": "code",
   "execution_count": 6,
   "id": "2f79899b",
   "metadata": {},
   "outputs": [
    {
     "name": "stdout",
     "output_type": "stream",
     "text": [
      "{None}\n",
      "<class 'set'>\n"
     ]
    }
   ],
   "source": [
    "x={None}\n",
    "\n",
    "print(x)\n",
    "print(type(x))"
   ]
  },
  {
   "cell_type": "code",
   "execution_count": 8,
   "id": "c6479a69",
   "metadata": {},
   "outputs": [
    {
     "name": "stdout",
     "output_type": "stream",
     "text": [
      "{}\n",
      "<class 'dict'>\n"
     ]
    }
   ],
   "source": [
    "x2={}\n",
    "print(x2)\n",
    "print(type(x2))"
   ]
  },
  {
   "cell_type": "code",
   "execution_count": 11,
   "id": "b8736e9a",
   "metadata": {},
   "outputs": [
    {
     "name": "stdout",
     "output_type": "stream",
     "text": [
      "set()\n",
      "<class 'set'>\n"
     ]
    }
   ],
   "source": [
    "x3=set()\n",
    "print(x3)\n",
    "print(type(x3))"
   ]
  },
  {
   "cell_type": "code",
   "execution_count": 13,
   "id": "322c0557",
   "metadata": {},
   "outputs": [
    {
     "name": "stdout",
     "output_type": "stream",
     "text": [
      "set()\n"
     ]
    }
   ],
   "source": [
    "x3={123,}\n",
    "x3\n",
    "x3.pop()\n",
    "print(x3)"
   ]
  },
  {
   "cell_type": "code",
   "execution_count": 2,
   "id": "b9f1251e",
   "metadata": {},
   "outputs": [
    {
     "name": "stdout",
     "output_type": "stream",
     "text": [
      "set()\n"
     ]
    }
   ],
   "source": [
    "x4={1,2,3}\n",
    "x4.clear()\n",
    "print(x4)"
   ]
  },
  {
   "cell_type": "code",
   "execution_count": 3,
   "id": "fbd7a951",
   "metadata": {},
   "outputs": [
    {
     "data": {
      "text/plain": [
       "{30, 40, 50}"
      ]
     },
     "execution_count": 3,
     "metadata": {},
     "output_type": "execute_result"
    }
   ],
   "source": [
    "# Intersection in set\n",
    "\n",
    "x3={10,20,30,40,50}\n",
    "x4={30,40,50,60,70,80}\n",
    "\n",
    "# To find the intersection of these two sets.\n",
    "\n",
    "x3.intersection(x4)\n"
   ]
  },
  {
   "cell_type": "code",
   "execution_count": 4,
   "id": "9798edb5",
   "metadata": {},
   "outputs": [
    {
     "name": "stdout",
     "output_type": "stream",
     "text": [
      "{40, 50, 30}\n"
     ]
    }
   ],
   "source": [
    "# another method for finding intersection\n",
    "\n",
    "x=x3&x4\n",
    "print(x)"
   ]
  },
  {
   "cell_type": "code",
   "execution_count": 7,
   "id": "a984d94d",
   "metadata": {},
   "outputs": [
    {
     "name": "stdout",
     "output_type": "stream",
     "text": [
      "{50, 20, 40, 10, 30}\n",
      "{80, 50, 70, 40, 60, 30}\n",
      "{10, 20}\n",
      "{80, 60, 70}\n"
     ]
    }
   ],
   "source": [
    "print(x3)\n",
    "print(x4)\n",
    "\n",
    "# to finding the difference between two sets\n",
    "\n",
    "print(x3-x4)\n",
    "print(x4-x3)"
   ]
  },
  {
   "cell_type": "code",
   "execution_count": 9,
   "id": "a638601c",
   "metadata": {},
   "outputs": [
    {
     "name": "stdout",
     "output_type": "stream",
     "text": [
      "{10, 20}\n",
      "{80, 60, 70}\n"
     ]
    }
   ],
   "source": [
    "# another method to find the difference between two sets.\n",
    "\n",
    "print(x3.difference(x4))\n",
    "print(x4.difference(x3))"
   ]
  },
  {
   "cell_type": "code",
   "execution_count": 10,
   "id": "2885634f",
   "metadata": {},
   "outputs": [
    {
     "name": "stdout",
     "output_type": "stream",
     "text": [
      "{70, 40, 10, 80, 50, 20, 60, 30}\n"
     ]
    }
   ],
   "source": [
    "#  To find union between two sets.\n",
    "\n",
    "print(x3.union(x4))"
   ]
  },
  {
   "cell_type": "code",
   "execution_count": 15,
   "id": "4e84d521",
   "metadata": {},
   "outputs": [
    {
     "name": "stdout",
     "output_type": "stream",
     "text": [
      "Minimum value of a is: 1\n",
      "Minimum value of b is: 1\n",
      "Maximum value of a is: 10\n",
      "Maximum value of a is: 10\n",
      "Maximum value of a is: 108\n",
      "Maximum value of a is: 55\n"
     ]
    }
   ],
   "source": [
    "a=[1,2,3,4,5,5,5,6,6,7,7,8,9,6,7,8,9,10]\n",
    "b={1,2,3,4,5,5,5,6,6,7,7,8,9,6,7,8,9,10}\n",
    "\n",
    "print('Minimum value of a is:',min(a))\n",
    "print('Minimum value of b is:',min(a))\n",
    "print('Maximum value of a is:',max(a))\n",
    "print('Maximum value of a is:',max(b))\n",
    "print('Maximum value of a is:',sum(a))\n",
    "print('Maximum value of a is:',sum(b))"
   ]
  },
  {
   "cell_type": "code",
   "execution_count": 16,
   "id": "eedacd67",
   "metadata": {},
   "outputs": [
    {
     "data": {
      "text/plain": [
       "{10, 20, 30, 40, 50}"
      ]
     },
     "execution_count": 16,
     "metadata": {},
     "output_type": "execute_result"
    }
   ],
   "source": [
    "x3"
   ]
  },
  {
   "cell_type": "code",
   "execution_count": 17,
   "id": "e900e936",
   "metadata": {},
   "outputs": [
    {
     "data": {
      "text/plain": [
       "{30, 40, 50, 60, 70, 80}"
      ]
     },
     "execution_count": 17,
     "metadata": {},
     "output_type": "execute_result"
    }
   ],
   "source": [
    "x4"
   ]
  },
  {
   "cell_type": "code",
   "execution_count": 20,
   "id": "0261bf58",
   "metadata": {},
   "outputs": [
    {
     "name": "stdout",
     "output_type": "stream",
     "text": [
      "{80, 20, 70, 10, 60}\n"
     ]
    }
   ],
   "source": [
    "print(x3.symmetric_difference(x4))"
   ]
  },
  {
   "cell_type": "code",
   "execution_count": null,
   "id": "b5085ae8",
   "metadata": {},
   "outputs": [],
   "source": []
  }
 ],
 "metadata": {
  "kernelspec": {
   "display_name": "Python 3 (ipykernel)",
   "language": "python",
   "name": "python3"
  },
  "language_info": {
   "codemirror_mode": {
    "name": "ipython",
    "version": 3
   },
   "file_extension": ".py",
   "mimetype": "text/x-python",
   "name": "python",
   "nbconvert_exporter": "python",
   "pygments_lexer": "ipython3",
   "version": "3.9.13"
  }
 },
 "nbformat": 4,
 "nbformat_minor": 5
}
