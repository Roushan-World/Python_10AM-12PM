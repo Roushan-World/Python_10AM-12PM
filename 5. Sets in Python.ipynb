{
 "cells": [
  {
   "cell_type": "markdown",
   "id": "a856fe68",
   "metadata": {},
   "source": [
    "# 5. Sets in Python\n",
    "\n",
    " * __Sets is 4-built in data type in Python used to store collection of data including list, tuple and Dictionary.__\n",
    " \n",
    " * __Sets elements are unordered, but you can add or remove an items in the set.__\n",
    " \n",
    " * __Set element are unique. Duplicate values are not allowed in the set.__\n",
    " \n",
    " * __A set itself may be modified, but the element contained in the set must be of an immutable type.__\n",
    " \n",
    " * __Sets are used to store multiple item in a single variable.__\n",
    " * __You can denote a pair of curly brackets.{}__"
   ]
  },
  {
   "cell_type": "code",
   "execution_count": 3,
   "id": "9404ae61",
   "metadata": {},
   "outputs": [
    {
     "name": "stdout",
     "output_type": "stream",
     "text": [
      "['Hello World', 3.147, 2.718, 3.147, 2.718, True, False, True, False]\n",
      "{False, True, 2.718, 3.147, 'Hello World'}\n"
     ]
    }
   ],
   "source": [
    "x1=['Hello World',3.147,2.718,3.147,2.718,True,False,True,False]\n",
    "print(x1)\n",
    "x2=set(x1)\n",
    "print(x2)"
   ]
  },
  {
   "cell_type": "code",
   "execution_count": 6,
   "id": "2f79899b",
   "metadata": {},
   "outputs": [
    {
     "name": "stdout",
     "output_type": "stream",
     "text": [
      "{None}\n",
      "<class 'set'>\n"
     ]
    }
   ],
   "source": [
    "x={None}\n",
    "\n",
    "print(x)\n",
    "print(type(x))"
   ]
  },
  {
   "cell_type": "code",
   "execution_count": 8,
   "id": "c6479a69",
   "metadata": {},
   "outputs": [
    {
     "name": "stdout",
     "output_type": "stream",
     "text": [
      "{}\n",
      "<class 'dict'>\n"
     ]
    }
   ],
   "source": [
    "x2={}\n",
    "print(x2)\n",
    "print(type(x2))"
   ]
  },
  {
   "cell_type": "code",
   "execution_count": 11,
   "id": "b8736e9a",
   "metadata": {},
   "outputs": [
    {
     "name": "stdout",
     "output_type": "stream",
     "text": [
      "set()\n",
      "<class 'set'>\n"
     ]
    }
   ],
   "source": [
    "x3=set()\n",
    "print(x3)\n",
    "print(type(x3))"
   ]
  },
  {
   "cell_type": "code",
   "execution_count": 13,
   "id": "322c0557",
   "metadata": {},
   "outputs": [
    {
     "name": "stdout",
     "output_type": "stream",
     "text": [
      "set()\n"
     ]
    }
   ],
   "source": [
    "x3={123,}\n",
    "x3\n",
    "x3.pop()\n",
    "print(x3)"
   ]
  },
  {
   "cell_type": "code",
   "execution_count": null,
   "id": "b9f1251e",
   "metadata": {},
   "outputs": [],
   "source": []
  }
 ],
 "metadata": {
  "kernelspec": {
   "display_name": "Python 3 (ipykernel)",
   "language": "python",
   "name": "python3"
  },
  "language_info": {
   "codemirror_mode": {
    "name": "ipython",
    "version": 3
   },
   "file_extension": ".py",
   "mimetype": "text/x-python",
   "name": "python",
   "nbconvert_exporter": "python",
   "pygments_lexer": "ipython3",
   "version": "3.9.13"
  }
 },
 "nbformat": 4,
 "nbformat_minor": 5
}
