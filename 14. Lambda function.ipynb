{
 "cells": [
  {
   "cell_type": "code",
   "execution_count": 1,
   "id": "c44f60c2",
   "metadata": {},
   "outputs": [
    {
     "name": "stdout",
     "output_type": "stream",
     "text": [
      "16\n"
     ]
    }
   ],
   "source": [
    "def f(x):\n",
    "    return x+6\n",
    "print(f(10))"
   ]
  },
  {
   "cell_type": "code",
   "execution_count": 2,
   "id": "9377550d",
   "metadata": {},
   "outputs": [
    {
     "data": {
      "text/plain": [
       "16"
      ]
     },
     "execution_count": 2,
     "metadata": {},
     "output_type": "execute_result"
    }
   ],
   "source": [
    "(lambda x:x+6)(10)"
   ]
  },
  {
   "cell_type": "code",
   "execution_count": 4,
   "id": "0ad519e3",
   "metadata": {},
   "outputs": [
    {
     "name": "stdout",
     "output_type": "stream",
     "text": [
      "The Exponenet of 10 and 20 is: 100000000000000000000\n"
     ]
    }
   ],
   "source": [
    "def f(x,y):\n",
    "    return x**y\n",
    "print('The Exponenet of {} and {} is:'.format(10,20),f(10,20))"
   ]
  },
  {
   "cell_type": "code",
   "execution_count": 8,
   "id": "047e207e",
   "metadata": {},
   "outputs": [
    {
     "name": "stdout",
     "output_type": "stream",
     "text": [
      "The power of 10 and 20 is: 100000000000000000000\n"
     ]
    }
   ],
   "source": [
    "print(f'The power of 10 and 20 is: {(lambda x,y:x**y)(10,20)}')"
   ]
  },
  {
   "cell_type": "code",
   "execution_count": 10,
   "id": "972322a3",
   "metadata": {},
   "outputs": [
    {
     "name": "stdout",
     "output_type": "stream",
     "text": [
      "The volume of cube is: 1000\n"
     ]
    }
   ],
   "source": [
    "print(f'The volume of cube is: {(lambda x:x**3)(10)}')"
   ]
  },
  {
   "cell_type": "code",
   "execution_count": 11,
   "id": "240fe380",
   "metadata": {},
   "outputs": [
    {
     "name": "stdout",
     "output_type": "stream",
     "text": [
      "Enter your age:22\n",
      "You can vote\n"
     ]
    }
   ],
   "source": [
    "# Write a program to a person is able to voting or not using lambda function.\n",
    "\n",
    "age=int(input('Enter your age:'))\n",
    "(lambda age:print('You can vote') if age>=18 else('You can not vote'))(age)"
   ]
  },
  {
   "cell_type": "code",
   "execution_count": 12,
   "id": "b30b8e78",
   "metadata": {},
   "outputs": [
    {
     "name": "stdout",
     "output_type": "stream",
     "text": [
      "python is programming language.\n"
     ]
    }
   ],
   "source": [
    "text='python is programming language.'\n",
    "(lambda text:print(text))(text)"
   ]
  },
  {
   "cell_type": "code",
   "execution_count": 15,
   "id": "d345b41c",
   "metadata": {},
   "outputs": [
    {
     "name": "stdout",
     "output_type": "stream",
     "text": [
      "Enter any number44\n",
      "Enter second number22\n",
      "[66, 22, 968, 2.0, 1432052311740255546466984939315265536]\n"
     ]
    }
   ],
   "source": [
    "# add, subtract,multiply, divide and exponent\n",
    "\n",
    "x=int(input('Enter any number'))\n",
    "y=int(input('Enter second number'))\n",
    "l1=[]\n",
    "(lambda x,y:l1.append(x+y))(x,y)\n",
    "(lambda x,y:l1.append(x-y))(x,y)\n",
    "(lambda x,y:l1.append(x*y))(x,y)\n",
    "(lambda x,y:l1.append(x/y))(x,y)\n",
    "(lambda x,y:l1.append(x**y))(x,y)\n",
    "print(l1)"
   ]
  },
  {
   "cell_type": "code",
   "execution_count": null,
   "id": "4b0719f8",
   "metadata": {},
   "outputs": [],
   "source": []
  }
 ],
 "metadata": {
  "kernelspec": {
   "display_name": "Python 3 (ipykernel)",
   "language": "python",
   "name": "python3"
  },
  "language_info": {
   "codemirror_mode": {
    "name": "ipython",
    "version": 3
   },
   "file_extension": ".py",
   "mimetype": "text/x-python",
   "name": "python",
   "nbconvert_exporter": "python",
   "pygments_lexer": "ipython3",
   "version": "3.9.13"
  }
 },
 "nbformat": 4,
 "nbformat_minor": 5
}
