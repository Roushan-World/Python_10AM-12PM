{
 "cells": [
  {
   "cell_type": "code",
   "execution_count": 1,
   "id": "03dc05c1",
   "metadata": {},
   "outputs": [
    {
     "data": {
      "text/plain": [
       "'Hello World'"
      ]
     },
     "execution_count": 1,
     "metadata": {},
     "output_type": "execute_result"
    }
   ],
   "source": [
    "'Hello World'"
   ]
  },
  {
   "cell_type": "code",
   "execution_count": 2,
   "id": "070506e6",
   "metadata": {},
   "outputs": [
    {
     "data": {
      "text/plain": [
       "'Hello World'"
      ]
     },
     "execution_count": 2,
     "metadata": {},
     "output_type": "execute_result"
    }
   ],
   "source": [
    "\"Hello World\""
   ]
  },
  {
   "cell_type": "code",
   "execution_count": 3,
   "id": "06656a25",
   "metadata": {},
   "outputs": [
    {
     "data": {
      "text/plain": [
       "'@!#$%&'"
      ]
     },
     "execution_count": 3,
     "metadata": {},
     "output_type": "execute_result"
    }
   ],
   "source": [
    "'@!#$%&'"
   ]
  },
  {
   "cell_type": "code",
   "execution_count": 4,
   "id": "dc3ff8f1",
   "metadata": {},
   "outputs": [
    {
     "name": "stdout",
     "output_type": "stream",
     "text": [
      "hello world\n"
     ]
    }
   ],
   "source": [
    "x= 'hello world'\n",
    "print(x)"
   ]
  },
  {
   "cell_type": "markdown",
   "id": "dd0f8952",
   "metadata": {},
   "source": [
    "# Indexing of string\n"
   ]
  },
  {
   "cell_type": "code",
   "execution_count": 12,
   "id": "23932655",
   "metadata": {},
   "outputs": [
    {
     "name": "stdout",
     "output_type": "stream",
     "text": [
      "h\n",
      "e\n",
      "l\n",
      "l\n",
      "o\n",
      " \n",
      "w\n",
      "o\n"
     ]
    }
   ],
   "source": [
    "# positive indexing\n",
    "print(x[0])\n",
    "print(x[1])\n",
    "print(x[2])\n",
    "print(x[3])\n",
    "print(x[4])\n",
    "print(x[5])\n",
    "print(x[6])\n",
    "print(x[7])"
   ]
  },
  {
   "cell_type": "markdown",
   "id": "b2f4b372",
   "metadata": {},
   "source": [
    "# Negative indexing"
   ]
  },
  {
   "cell_type": "code",
   "execution_count": 17,
   "id": "398c8ef1",
   "metadata": {},
   "outputs": [
    {
     "name": "stdout",
     "output_type": "stream",
     "text": [
      "d\n",
      "l\n",
      "r\n"
     ]
    }
   ],
   "source": [
    "print(x[-1])\n",
    "print(x[-2])\n",
    "print(x[-3])"
   ]
  },
  {
   "cell_type": "code",
   "execution_count": 18,
   "id": "eaea3d91",
   "metadata": {},
   "outputs": [
    {
     "name": "stdout",
     "output_type": "stream",
     "text": [
      "11\n"
     ]
    }
   ],
   "source": [
    "print(len(x))"
   ]
  },
  {
   "cell_type": "markdown",
   "id": "ee5ee9ec",
   "metadata": {},
   "source": [
    "# Slicing of String"
   ]
  },
  {
   "cell_type": "code",
   "execution_count": 22,
   "id": "eb62b305",
   "metadata": {},
   "outputs": [
    {
     "name": "stdout",
     "output_type": "stream",
     "text": [
      "Hello\n",
      "World\n"
     ]
    }
   ],
   "source": [
    "x_1=\"Hello World\"\n",
    "\n",
    "\n",
    "print(x_1[0:5])\n",
    "print(x_1[6:11])"
   ]
  },
  {
   "cell_type": "code",
   "execution_count": 25,
   "id": "51980298",
   "metadata": {},
   "outputs": [
    {
     "name": "stdout",
     "output_type": "stream",
     "text": [
      "Hlo\n"
     ]
    }
   ],
   "source": [
    "print(x_1[0:5:2])  #Starting Index:Ending Index:Step Value"
   ]
  },
  {
   "cell_type": "code",
   "execution_count": 27,
   "id": "0009dd36",
   "metadata": {},
   "outputs": [
    {
     "name": "stdout",
     "output_type": "stream",
     "text": [
      "Wl\n"
     ]
    }
   ],
   "source": [
    "print(x_1[6:11:3])"
   ]
  },
  {
   "cell_type": "markdown",
   "id": "6b720ef8",
   "metadata": {},
   "source": [
    "# Escape Sequences"
   ]
  },
  {
   "cell_type": "code",
   "execution_count": 14,
   "id": "12f7022f",
   "metadata": {},
   "outputs": [
    {
     "name": "stdout",
     "output_type": "stream",
     "text": [
      "\\\n"
     ]
    }
   ],
   "source": [
    "print('\\\\')"
   ]
  },
  {
   "cell_type": "code",
   "execution_count": 15,
   "id": "53bb8131",
   "metadata": {},
   "outputs": [
    {
     "name": "stdout",
     "output_type": "stream",
     "text": [
      "hello world\n",
      "How \n",
      "many people are living on the world\n"
     ]
    }
   ],
   "source": [
    "print('hello world\\nHow \\nmany people are living on the world')  #\\n new line"
   ]
  },
  {
   "cell_type": "code",
   "execution_count": 16,
   "id": "e8e1f4d0",
   "metadata": {},
   "outputs": [
    {
     "name": "stdout",
     "output_type": "stream",
     "text": [
      "hello world\tHow many people are living on the world\n"
     ]
    }
   ],
   "source": [
    "print('hello world\\tHow many people are living on the world')    #\\t tab"
   ]
  },
  {
   "cell_type": "code",
   "execution_count": 18,
   "id": "19bacce1",
   "metadata": {},
   "outputs": [
    {
     "name": "stdout",
     "output_type": "stream",
     "text": [
      "Hello\tq\n"
     ]
    }
   ],
   "source": [
    "print('Hello\\tq')"
   ]
  },
  {
   "cell_type": "markdown",
   "id": "9d4e8bb5",
   "metadata": {},
   "source": [
    "# String Operations."
   ]
  },
  {
   "cell_type": "code",
   "execution_count": 33,
   "id": "e3d1dca4",
   "metadata": {},
   "outputs": [
    {
     "name": "stdout",
     "output_type": "stream",
     "text": [
      " w hello world  hello horld world\n",
      " w hello world  hello horld world\n",
      " W HELLO WORLD  HELLO HORLD WORLD\n",
      "1\n",
      "16\n",
      "9\n"
     ]
    }
   ],
   "source": [
    "x='hello world  Hello horld world'\n",
    "\n",
    "# Capitalization\n",
    "\n",
    "print(x.capitalize())\n",
    "\n",
    "# lower\n",
    "\n",
    "print(x.lower())\n",
    "\n",
    "\n",
    "# upper\n",
    "print(x.upper())\n",
    "\n",
    "# Count\n",
    "\n",
    "print(x.count('H'))\n",
    "\n",
    "\n",
    "# Index \n",
    "\n",
    "print(x.index('H'))\n",
    "\n",
    "# find\n",
    "\n",
    "print(x.find('world'))"
   ]
  },
  {
   "cell_type": "code",
   "execution_count": 35,
   "id": "aaac5f17",
   "metadata": {},
   "outputs": [
    {
     "name": "stdout",
     "output_type": "stream",
     "text": [
      "10/08/2023\n",
      "10-08-2023\n"
     ]
    }
   ],
   "source": [
    "# replace\n",
    "y='10/08/2023'  # 10-08-2024\n",
    "print(y)\n",
    "print(y.replace('/','-'))"
   ]
  },
  {
   "cell_type": "code",
   "execution_count": 40,
   "id": "959c5d7f",
   "metadata": {},
   "outputs": [
    {
     "name": "stdout",
     "output_type": "stream",
     "text": [
      "True\n",
      "False\n"
     ]
    }
   ],
   "source": [
    "# is alnum\n",
    "\n",
    "x= 'abc123'\n",
    "\n",
    "print(x.isalnum())\n",
    "print(x.isnumeric())"
   ]
  },
  {
   "cell_type": "code",
   "execution_count": 44,
   "id": "4d916e7a",
   "metadata": {},
   "outputs": [
    {
     "name": "stdout",
     "output_type": "stream",
     "text": [
      "True\n",
      "False\n"
     ]
    }
   ],
   "source": [
    "z='ABC'\n",
    "y='abc'\n",
    "\n",
    "print(z.isupper())\n",
    "print(z.islower())"
   ]
  },
  {
   "cell_type": "code",
   "execution_count": null,
   "id": "f3a50360",
   "metadata": {},
   "outputs": [],
   "source": []
  }
 ],
 "metadata": {
  "kernelspec": {
   "display_name": "Python 3 (ipykernel)",
   "language": "python",
   "name": "python3"
  },
  "language_info": {
   "codemirror_mode": {
    "name": "ipython",
    "version": 3
   },
   "file_extension": ".py",
   "mimetype": "text/x-python",
   "name": "python",
   "nbconvert_exporter": "python",
   "pygments_lexer": "ipython3",
   "version": "3.9.13"
  }
 },
 "nbformat": 4,
 "nbformat_minor": 5
}
